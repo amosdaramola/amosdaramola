{
 "cells": [
  {
   "cell_type": "code",
   "execution_count": 1,
   "metadata": {},
   "outputs": [],
   "source": [
    "import pandas as pd\n",
    "import numpy as np\n",
    "import inventorize as inv\n",
    "import datetime as dt\n",
    "import array"
   ]
  },
  {
   "cell_type": "code",
   "execution_count": 2,
   "metadata": {},
   "outputs": [
    {
     "data": {
      "text/html": [
       "<div>\n",
       "<style scoped>\n",
       "    .dataframe tbody tr th:only-of-type {\n",
       "        vertical-align: middle;\n",
       "    }\n",
       "\n",
       "    .dataframe tbody tr th {\n",
       "        vertical-align: top;\n",
       "    }\n",
       "\n",
       "    .dataframe thead th {\n",
       "        text-align: right;\n",
       "    }\n",
       "</style>\n",
       "<table border=\"1\" class=\"dataframe\">\n",
       "  <thead>\n",
       "    <tr style=\"text-align: right;\">\n",
       "      <th></th>\n",
       "      <th>Day</th>\n",
       "      <th>Pinapple juice</th>\n",
       "      <th>Price</th>\n",
       "    </tr>\n",
       "  </thead>\n",
       "  <tbody>\n",
       "    <tr>\n",
       "      <th>0</th>\n",
       "      <td>1</td>\n",
       "      <td>131</td>\n",
       "      <td>1.38</td>\n",
       "    </tr>\n",
       "    <tr>\n",
       "      <th>1</th>\n",
       "      <td>2</td>\n",
       "      <td>147</td>\n",
       "      <td>1.06</td>\n",
       "    </tr>\n",
       "    <tr>\n",
       "      <th>2</th>\n",
       "      <td>3</td>\n",
       "      <td>101</td>\n",
       "      <td>1.98</td>\n",
       "    </tr>\n",
       "    <tr>\n",
       "      <th>3</th>\n",
       "      <td>4</td>\n",
       "      <td>139</td>\n",
       "      <td>1.22</td>\n",
       "    </tr>\n",
       "    <tr>\n",
       "      <th>4</th>\n",
       "      <td>5</td>\n",
       "      <td>121</td>\n",
       "      <td>1.58</td>\n",
       "    </tr>\n",
       "  </tbody>\n",
       "</table>\n",
       "</div>"
      ],
      "text/plain": [
       "   Day  Pinapple juice  Price\n",
       "0    1             131   1.38\n",
       "1    2             147   1.06\n",
       "2    3             101   1.98\n",
       "3    4             139   1.22\n",
       "4    5             121   1.58"
      ]
     },
     "execution_count": 2,
     "metadata": {},
     "output_type": "execute_result"
    }
   ],
   "source": [
    "pineapple = pd.read_csv('Pinapple_juice.csv')\n",
    "pineapple.head()"
   ]
  },
  {
   "cell_type": "code",
   "execution_count": 3,
   "metadata": {},
   "outputs": [
    {
     "data": {
      "text/plain": [
       "(366, 3)"
      ]
     },
     "execution_count": 3,
     "metadata": {},
     "output_type": "execute_result"
    }
   ],
   "source": [
    "pineapple.shape"
   ]
  },
  {
   "cell_type": "code",
   "execution_count": 4,
   "metadata": {},
   "outputs": [],
   "source": [
    "p_juice = pineapple[['Pinapple juice']]"
   ]
  },
  {
   "cell_type": "code",
   "execution_count": 5,
   "metadata": {},
   "outputs": [],
   "source": [
    "mean_p = p_juice.mean()\n",
    "sd_p = p_juice.std()"
   ]
  },
  {
   "cell_type": "code",
   "execution_count": 6,
   "metadata": {},
   "outputs": [
    {
     "data": {
      "text/plain": [
       "Pinapple juice    189\n",
       "dtype: int64"
      ]
     },
     "execution_count": 6,
     "metadata": {},
     "output_type": "execute_result"
    }
   ],
   "source": [
    "max_p = p_juice.max()\n",
    "max_p"
   ]
  },
  {
   "cell_type": "code",
   "execution_count": 7,
   "metadata": {},
   "outputs": [
    {
     "data": {
      "text/html": [
       "<div>\n",
       "<style scoped>\n",
       "    .dataframe tbody tr th:only-of-type {\n",
       "        vertical-align: middle;\n",
       "    }\n",
       "\n",
       "    .dataframe tbody tr th {\n",
       "        vertical-align: top;\n",
       "    }\n",
       "\n",
       "    .dataframe thead th {\n",
       "        text-align: right;\n",
       "    }\n",
       "</style>\n",
       "<table border=\"1\" class=\"dataframe\">\n",
       "  <thead>\n",
       "    <tr style=\"text-align: right;\">\n",
       "      <th></th>\n",
       "      <th>Day</th>\n",
       "      <th>Pinapple juice</th>\n",
       "      <th>Price</th>\n",
       "    </tr>\n",
       "  </thead>\n",
       "  <tbody>\n",
       "    <tr>\n",
       "      <th>297</th>\n",
       "      <td>298</td>\n",
       "      <td>189</td>\n",
       "      <td>0.22</td>\n",
       "    </tr>\n",
       "  </tbody>\n",
       "</table>\n",
       "</div>"
      ],
      "text/plain": [
       "     Day  Pinapple juice  Price\n",
       "297  298             189   0.22"
      ]
     },
     "execution_count": 7,
     "metadata": {},
     "output_type": "execute_result"
    }
   ],
   "source": [
    "p_max = pineapple[pineapple['Pinapple juice'] == max(pineapple['Pinapple juice'])]\n",
    "p_max\n",
    "                  "
   ]
  },
  {
   "cell_type": "code",
   "execution_count": 8,
   "metadata": {},
   "outputs": [],
   "source": [
    "leadtime =7\n",
    "ordering_cost =100\n",
    "service_level =0.8\n",
    "invetory_cost =5"
   ]
  },
  {
   "cell_type": "code",
   "execution_count": 9,
   "metadata": {},
   "outputs": [],
   "source": [
    "## SQ POLICY\n",
    "p_sq = inv.sim_min_Q_normal(p_juice,mean_p,sd_p,leadtime=7,service_level =0.8,Quantity = 3000,shortage_cost=0,\n",
    "                            inventory_cost=5,ordering_cost=100)"
   ]
  },
  {
   "cell_type": "code",
   "execution_count": 10,
   "metadata": {},
   "outputs": [],
   "source": [
    "p_sq[0].to_csv('pinapple_sq.csv')"
   ]
  },
  {
   "cell_type": "code",
   "execution_count": 11,
   "metadata": {},
   "outputs": [],
   "source": [
    "## MIN-MAX POLICY\n",
    "p_minmax = inv.sim_min_max_normal(p_juice,mean_p,sd_p,leadtime=7,service_level=0.8,Max=1100,\n",
    "                                shortage_cost =1,ordering_cost=100,inventory_cost=5)"
   ]
  },
  {
   "cell_type": "code",
   "execution_count": null,
   "metadata": {},
   "outputs": [],
   "source": []
  },
  {
   "cell_type": "code",
   "execution_count": 12,
   "metadata": {},
   "outputs": [],
   "source": [
    "## PERIODIC REVIEW PLICY\n",
    "p_periodic = inv.Periodic_review_normal(p_juice,mean_p,sd_p,leadtime=7,Review_period=7,service_level=0.8,\n",
    "                                        ordering_cost=100,shortage_cost=1,inventory_cost=5)"
   ]
  },
  {
   "cell_type": "code",
   "execution_count": 13,
   "metadata": {},
   "outputs": [],
   "source": [
    "p_periodic[0].to_csv('pinapple_periodic.csv')"
   ]
  },
  {
   "cell_type": "code",
   "execution_count": 14,
   "metadata": {},
   "outputs": [],
   "source": [
    "## Hybrid policy\n",
    "p_hybrid = inv.Hibrid_normal(p_juice,mean_p,sd_p,leadtime=7,service_level=0.8,Review_period=7,\n",
    "                             ordering_cost=100,inventory_cost=5,Min =20,shortage_cost=1)"
   ]
  },
  {
   "cell_type": "code",
   "execution_count": 15,
   "metadata": {},
   "outputs": [],
   "source": [
    "p_hybrid[0].to_csv('pinapple_hybrid.csv')"
   ]
  },
  {
   "cell_type": "code",
   "execution_count": null,
   "metadata": {},
   "outputs": [],
   "source": []
  },
  {
   "cell_type": "code",
   "execution_count": 16,
   "metadata": {},
   "outputs": [],
   "source": [
    "##Base stock policy\n",
    "p_base = inv.sim_base_normal(p_juice,mean_p,sd_p,leadtime=7,service_level=0.8,ordering_cost=100,\n",
    "                             inventory_cost=5,shortage_cost = 1)"
   ]
  },
  {
   "cell_type": "code",
   "execution_count": 17,
   "metadata": {},
   "outputs": [],
   "source": [
    "p_base[0].to_csv('pinapple_base.csv')"
   ]
  },
  {
   "cell_type": "code",
   "execution_count": 18,
   "metadata": {},
   "outputs": [
    {
     "data": {
      "text/plain": [
       "{'shortage_cost': 0.0,\n",
       " 'inventory_cost': 2650920.0,\n",
       " 'average_inventory_level': 1444.6430517711171,\n",
       " 'ordering_cost': 1600,\n",
       " 'total_lost_sales': 474.0,\n",
       " 'Item_fill_rate': 0.9900558049762934,\n",
       " 'cycle_service_level': 0.9781420765027322,\n",
       " 'saftey_stock': Pinapple juice    47.478125\n",
       " dtype: float64}"
      ]
     },
     "execution_count": 18,
     "metadata": {},
     "output_type": "execute_result"
    }
   ],
   "source": [
    "p_sq[1]"
   ]
  },
  {
   "cell_type": "code",
   "execution_count": 19,
   "metadata": {},
   "outputs": [
    {
     "data": {
      "text/plain": [
       "{'shortage_cost': 3078.0,\n",
       " 'inventory_cost': 156895.0,\n",
       " 'average_inventory_level': 85.50136239782016,\n",
       " 'ordering_cost': 20700,\n",
       " 'total_lost_sales': 3078.0,\n",
       " 'Item_fill_rate': 0.935425670289095,\n",
       " 'cycle_service_level': 0.7595628415300546,\n",
       " 'saftey_stock': Pinapple juice    47.478125\n",
       " dtype: float64}"
      ]
     },
     "execution_count": 19,
     "metadata": {},
     "output_type": "execute_result"
    }
   ],
   "source": [
    "p_minmax[1]"
   ]
  },
  {
   "cell_type": "code",
   "execution_count": 20,
   "metadata": {},
   "outputs": [
    {
     "data": {
      "text/plain": [
       "{'shortage_cost': 253.0,\n",
       " 'inventory_cost': 894025.0,\n",
       " 'average_inventory_level': 487.20708446866485,\n",
       " 'ordering_cost': 5200,\n",
       " 'total_lost_sales': 253.0,\n",
       " 'Item_fill_rate': 0.9946922334578105,\n",
       " 'cycle_service_level': 0.9836065573770492,\n",
       " 'saftey_stock': Pinapple juice    67.144208\n",
       " dtype: float64}"
      ]
     },
     "execution_count": 20,
     "metadata": {},
     "output_type": "execute_result"
    }
   ],
   "source": [
    "p_periodic[1]"
   ]
  },
  {
   "cell_type": "code",
   "execution_count": 21,
   "metadata": {},
   "outputs": [
    {
     "data": {
      "text/plain": [
       "{'shortage_cost': 253.0,\n",
       " 'inventory_cost': 894025.0,\n",
       " 'average_inventory_level': 487.20708446866485,\n",
       " 'ordering_cost': 5200,\n",
       " 'total_lost_sales': 253.0,\n",
       " 'Item_fill_rate': 0.9946922334578105,\n",
       " 'cycle_service_level': 0.9836065573770492,\n",
       " 'saftey_stock': Pinapple juice    67.144208\n",
       " dtype: float64}"
      ]
     },
     "execution_count": 21,
     "metadata": {},
     "output_type": "execute_result"
    }
   ],
   "source": [
    "p_hybrid[1]"
   ]
  },
  {
   "cell_type": "code",
   "execution_count": 22,
   "metadata": {},
   "outputs": [
    {
     "data": {
      "text/plain": [
       "{'shortage_cost': 610.0,\n",
       " 'inventory_cost': 127155.0,\n",
       " 'average_inventory_level': 69.29427792915531,\n",
       " 'ordering_cost': 36600,\n",
       " 'total_lost_sales': 610.0,\n",
       " 'Item_fill_rate': 0.9872026182184366,\n",
       " 'cycle_service_level': 0.9153005464480874,\n",
       " 'saftey_stock': Pinapple juice    47.478125\n",
       " dtype: float64}"
      ]
     },
     "execution_count": 22,
     "metadata": {},
     "output_type": "execute_result"
    }
   ],
   "source": [
    "p_base[1]"
   ]
  },
  {
   "cell_type": "code",
   "execution_count": null,
   "metadata": {},
   "outputs": [],
   "source": []
  }
 ],
 "metadata": {
  "kernelspec": {
   "display_name": "Python 3",
   "language": "python",
   "name": "python3"
  },
  "language_info": {
   "codemirror_mode": {
    "name": "ipython",
    "version": 3
   },
   "file_extension": ".py",
   "mimetype": "text/x-python",
   "name": "python",
   "nbconvert_exporter": "python",
   "pygments_lexer": "ipython3",
   "version": "3.8.5"
  }
 },
 "nbformat": 4,
 "nbformat_minor": 4
}
