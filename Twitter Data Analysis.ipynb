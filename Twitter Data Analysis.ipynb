{
 "cells": [
  {
   "cell_type": "markdown",
   "metadata": {},
   "source": [
    "##### SCRAPING TWITTER DATA USING 6 DIFFERENT TRENDING HASHTAGS #OBidients, #PeterObi4President2023, #PeterObiForPresident2023, #PeterObi, #LabourParty, #LabourParty4PeterObi"
   ]
  },
  {
   "cell_type": "code",
   "execution_count": 1,
   "metadata": {},
   "outputs": [],
   "source": [
    "#import snscrape.modules.twitter as sntwitter\n",
    "#import pandas as pd\n",
    "#query = '#OBIdients'\n",
    "#tweets =[]\n",
    "#limit = 10000\n",
    "#for tweet in sntwitter.TwitterSearchScraper(query).get_items():\n",
    "    #if len(tweets) == limit:\n",
    "        #break\n",
    "    #else:\n",
    "        #tweets.append([tweet.date, tweet.user.username, tweet.content, tweet.hashtags, tweet.sourceLabel,\n",
    "                       #tweet.likeCount,tweet.retweetCount])\n",
    "#df = pd.DataFrame(tweets, columns = ['Date', 'User', 'Tweet', 'Hashtags', 'SourceLabel', 'LikeCount','RetweetCount'])\n"
   ]
  },
  {
   "cell_type": "code",
   "execution_count": 2,
   "metadata": {},
   "outputs": [],
   "source": [
    "#df.to_csv('obidient.csv')"
   ]
  },
  {
   "cell_type": "markdown",
   "metadata": {},
   "source": [
    "### COMBINING DATA SCAPED USING 6 DIFFERENT HASHTAGS"
   ]
  },
  {
   "cell_type": "code",
   "execution_count": null,
   "metadata": {},
   "outputs": [],
   "source": []
  },
  {
   "cell_type": "markdown",
   "metadata": {},
   "source": [
    "#####  #OBidients, #PeterObi4President2023, #PeterObiForPresident2023, #PeterObi, #LabourParty, #LabourParty4PeterObi are the 6 hashtags used for the scraping"
   ]
  },
  {
   "cell_type": "code",
   "execution_count": 3,
   "metadata": {},
   "outputs": [],
   "source": [
    "import pandas as pd\n",
    "import numpy as np\n",
    "import matplotlib.pyplot as plt\n",
    "import seaborn as sns\n",
    "%matplotlib inline\n"
   ]
  },
  {
   "cell_type": "code",
   "execution_count": 4,
   "metadata": {},
   "outputs": [
    {
     "data": {
      "text/plain": [
       "(7360, 13)"
      ]
     },
     "execution_count": 4,
     "metadata": {},
     "output_type": "execute_result"
    }
   ],
   "source": [
    "df1 = pd.read_csv('labourparty_4_obi.csv')\n",
    "df1.shape"
   ]
  },
  {
   "cell_type": "code",
   "execution_count": 5,
   "metadata": {},
   "outputs": [
    {
     "data": {
      "text/plain": [
       "(20000, 8)"
      ]
     },
     "execution_count": 5,
     "metadata": {},
     "output_type": "execute_result"
    }
   ],
   "source": [
    "df2 = pd.read_csv('labourparty.csv')\n",
    "df2.shape"
   ]
  },
  {
   "cell_type": "code",
   "execution_count": 6,
   "metadata": {},
   "outputs": [
    {
     "data": {
      "text/plain": [
       "(20000, 13)"
      ]
     },
     "execution_count": 6,
     "metadata": {},
     "output_type": "execute_result"
    }
   ],
   "source": [
    "df3 = pd.read_csv('peterobi.csv')\n",
    "df3.shape"
   ]
  },
  {
   "cell_type": "code",
   "execution_count": 7,
   "metadata": {},
   "outputs": [
    {
     "data": {
      "text/plain": [
       "(20000, 13)"
      ]
     },
     "execution_count": 7,
     "metadata": {},
     "output_type": "execute_result"
    }
   ],
   "source": [
    "df4 = pd.read_csv('PO_for_president.csv')\n",
    "df4.shape"
   ]
  },
  {
   "cell_type": "code",
   "execution_count": 8,
   "metadata": {},
   "outputs": [
    {
     "data": {
      "text/plain": [
       "(20000, 13)"
      ]
     },
     "execution_count": 8,
     "metadata": {},
     "output_type": "execute_result"
    }
   ],
   "source": [
    "df5 = pd.read_csv('peterobi.csv')\n",
    "df5.shape"
   ]
  },
  {
   "cell_type": "code",
   "execution_count": 9,
   "metadata": {},
   "outputs": [
    {
     "data": {
      "text/plain": [
       "(13704, 13)"
      ]
     },
     "execution_count": 9,
     "metadata": {},
     "output_type": "execute_result"
    }
   ],
   "source": [
    "df6 = pd.read_csv('obidient.csv')\n",
    "df6.shape"
   ]
  },
  {
   "cell_type": "code",
   "execution_count": 10,
   "metadata": {},
   "outputs": [],
   "source": [
    "frames = [df1,df2,df3,df4,df5,df6]"
   ]
  },
  {
   "cell_type": "code",
   "execution_count": 11,
   "metadata": {},
   "outputs": [
    {
     "data": {
      "text/plain": [
       "(101064, 13)"
      ]
     },
     "execution_count": 11,
     "metadata": {},
     "output_type": "execute_result"
    }
   ],
   "source": [
    "#Combining the data \n",
    "data = pd.concat(frames)\n",
    "data.shape"
   ]
  },
  {
   "cell_type": "markdown",
   "metadata": {},
   "source": [
    "##### Combining the 6 dataframes gives 101064 rows and 13 columns"
   ]
  },
  {
   "cell_type": "code",
   "execution_count": 12,
   "metadata": {},
   "outputs": [
    {
     "data": {
      "text/html": [
       "<div>\n",
       "<style scoped>\n",
       "    .dataframe tbody tr th:only-of-type {\n",
       "        vertical-align: middle;\n",
       "    }\n",
       "\n",
       "    .dataframe tbody tr th {\n",
       "        vertical-align: top;\n",
       "    }\n",
       "\n",
       "    .dataframe thead th {\n",
       "        text-align: right;\n",
       "    }\n",
       "</style>\n",
       "<table border=\"1\" class=\"dataframe\">\n",
       "  <thead>\n",
       "    <tr style=\"text-align: right;\">\n",
       "      <th></th>\n",
       "      <th>Unnamed: 0</th>\n",
       "      <th>Date</th>\n",
       "      <th>User</th>\n",
       "      <th>Tweet</th>\n",
       "      <th>Hashtags</th>\n",
       "      <th>SourceLabel</th>\n",
       "      <th>LikeCount</th>\n",
       "      <th>RetweetCount</th>\n",
       "      <th>id</th>\n",
       "      <th>RetweetCount.1</th>\n",
       "      <th>MentionedUser</th>\n",
       "      <th>ReplyCount</th>\n",
       "      <th>Language</th>\n",
       "    </tr>\n",
       "  </thead>\n",
       "  <tbody>\n",
       "    <tr>\n",
       "      <th>0</th>\n",
       "      <td>0</td>\n",
       "      <td>2022-06-18 17:51:56+00:00</td>\n",
       "      <td>Sir_Obidike</td>\n",
       "      <td>Never doubt that a small group of thoughtful, ...</td>\n",
       "      <td>['PeterObi4President', 'PeterObi2023', 'Labour...</td>\n",
       "      <td>Twitter for Android</td>\n",
       "      <td>2</td>\n",
       "      <td>1</td>\n",
       "      <td>1.538218e+18</td>\n",
       "      <td>1.0</td>\n",
       "      <td>NaN</td>\n",
       "      <td>0.0</td>\n",
       "      <td>en</td>\n",
       "    </tr>\n",
       "    <tr>\n",
       "      <th>1</th>\n",
       "      <td>1</td>\n",
       "      <td>2022-06-18 17:36:53+00:00</td>\n",
       "      <td>UchennnaOkongwu</td>\n",
       "      <td>Here's Peter obi when he went to South Africa ...</td>\n",
       "      <td>['PeterObi4President2023', 'PeterObi2023', 'NN...</td>\n",
       "      <td>Twitter for Android</td>\n",
       "      <td>0</td>\n",
       "      <td>0</td>\n",
       "      <td>1.538214e+18</td>\n",
       "      <td>0.0</td>\n",
       "      <td>NaN</td>\n",
       "      <td>0.0</td>\n",
       "      <td>en</td>\n",
       "    </tr>\n",
       "    <tr>\n",
       "      <th>2</th>\n",
       "      <td>2</td>\n",
       "      <td>2022-06-18 17:29:19+00:00</td>\n",
       "      <td>temmytope9242</td>\n",
       "      <td>Peter Obi or Nobody 👍✅\\n\\n#PeterObi4President ...</td>\n",
       "      <td>['PeterObi4President', 'PeterObiForPresident20...</td>\n",
       "      <td>Twitter for Android</td>\n",
       "      <td>0</td>\n",
       "      <td>0</td>\n",
       "      <td>1.538212e+18</td>\n",
       "      <td>0.0</td>\n",
       "      <td>NaN</td>\n",
       "      <td>0.0</td>\n",
       "      <td>en</td>\n",
       "    </tr>\n",
       "    <tr>\n",
       "      <th>3</th>\n",
       "      <td>3</td>\n",
       "      <td>2022-06-18 17:28:39+00:00</td>\n",
       "      <td>PresidentIye</td>\n",
       "      <td>Education is not the most important thing in l...</td>\n",
       "      <td>['thinkyourownthought', 'LabourParty4PeterObi'...</td>\n",
       "      <td>Twitter for iPhone</td>\n",
       "      <td>0</td>\n",
       "      <td>0</td>\n",
       "      <td>1.538212e+18</td>\n",
       "      <td>0.0</td>\n",
       "      <td>[User(username='SteveHarveyFM', id=4062635777,...</td>\n",
       "      <td>0.0</td>\n",
       "      <td>en</td>\n",
       "    </tr>\n",
       "    <tr>\n",
       "      <th>4</th>\n",
       "      <td>4</td>\n",
       "      <td>2022-06-18 17:25:41+00:00</td>\n",
       "      <td>joebyto</td>\n",
       "      <td>Vote buying is the new structure now! Come 202...</td>\n",
       "      <td>['WeNoDeyGiveShishi', 'PeterObiForPresident202...</td>\n",
       "      <td>Twitter for Android</td>\n",
       "      <td>0</td>\n",
       "      <td>0</td>\n",
       "      <td>1.538211e+18</td>\n",
       "      <td>0.0</td>\n",
       "      <td>NaN</td>\n",
       "      <td>0.0</td>\n",
       "      <td>en</td>\n",
       "    </tr>\n",
       "  </tbody>\n",
       "</table>\n",
       "</div>"
      ],
      "text/plain": [
       "   Unnamed: 0                       Date             User  \\\n",
       "0           0  2022-06-18 17:51:56+00:00      Sir_Obidike   \n",
       "1           1  2022-06-18 17:36:53+00:00  UchennnaOkongwu   \n",
       "2           2  2022-06-18 17:29:19+00:00    temmytope9242   \n",
       "3           3  2022-06-18 17:28:39+00:00     PresidentIye   \n",
       "4           4  2022-06-18 17:25:41+00:00          joebyto   \n",
       "\n",
       "                                               Tweet  \\\n",
       "0  Never doubt that a small group of thoughtful, ...   \n",
       "1  Here's Peter obi when he went to South Africa ...   \n",
       "2  Peter Obi or Nobody 👍✅\\n\\n#PeterObi4President ...   \n",
       "3  Education is not the most important thing in l...   \n",
       "4  Vote buying is the new structure now! Come 202...   \n",
       "\n",
       "                                            Hashtags          SourceLabel  \\\n",
       "0  ['PeterObi4President', 'PeterObi2023', 'Labour...  Twitter for Android   \n",
       "1  ['PeterObi4President2023', 'PeterObi2023', 'NN...  Twitter for Android   \n",
       "2  ['PeterObi4President', 'PeterObiForPresident20...  Twitter for Android   \n",
       "3  ['thinkyourownthought', 'LabourParty4PeterObi'...   Twitter for iPhone   \n",
       "4  ['WeNoDeyGiveShishi', 'PeterObiForPresident202...  Twitter for Android   \n",
       "\n",
       "   LikeCount  RetweetCount            id  RetweetCount.1  \\\n",
       "0          2             1  1.538218e+18             1.0   \n",
       "1          0             0  1.538214e+18             0.0   \n",
       "2          0             0  1.538212e+18             0.0   \n",
       "3          0             0  1.538212e+18             0.0   \n",
       "4          0             0  1.538211e+18             0.0   \n",
       "\n",
       "                                       MentionedUser  ReplyCount Language  \n",
       "0                                                NaN         0.0       en  \n",
       "1                                                NaN         0.0       en  \n",
       "2                                                NaN         0.0       en  \n",
       "3  [User(username='SteveHarveyFM', id=4062635777,...         0.0       en  \n",
       "4                                                NaN         0.0       en  "
      ]
     },
     "execution_count": 12,
     "metadata": {},
     "output_type": "execute_result"
    }
   ],
   "source": [
    "data.head()"
   ]
  },
  {
   "cell_type": "code",
   "execution_count": 13,
   "metadata": {},
   "outputs": [
    {
     "data": {
      "text/plain": [
       "Index(['Unnamed: 0', 'Date', 'User', 'Tweet', 'Hashtags', 'SourceLabel',\n",
       "       'LikeCount', 'RetweetCount', 'id', 'RetweetCount.1', 'MentionedUser',\n",
       "       'ReplyCount', 'Language'],\n",
       "      dtype='object')"
      ]
     },
     "execution_count": 13,
     "metadata": {},
     "output_type": "execute_result"
    }
   ],
   "source": [
    "data.columns"
   ]
  },
  {
   "cell_type": "code",
   "execution_count": 14,
   "metadata": {},
   "outputs": [],
   "source": [
    "data = data.drop(columns =['Unnamed: 0'])"
   ]
  },
  {
   "cell_type": "code",
   "execution_count": 15,
   "metadata": {},
   "outputs": [
    {
     "data": {
      "text/html": [
       "<div>\n",
       "<style scoped>\n",
       "    .dataframe tbody tr th:only-of-type {\n",
       "        vertical-align: middle;\n",
       "    }\n",
       "\n",
       "    .dataframe tbody tr th {\n",
       "        vertical-align: top;\n",
       "    }\n",
       "\n",
       "    .dataframe thead th {\n",
       "        text-align: right;\n",
       "    }\n",
       "</style>\n",
       "<table border=\"1\" class=\"dataframe\">\n",
       "  <thead>\n",
       "    <tr style=\"text-align: right;\">\n",
       "      <th></th>\n",
       "      <th>Date</th>\n",
       "      <th>User</th>\n",
       "      <th>Tweet</th>\n",
       "      <th>Hashtags</th>\n",
       "      <th>SourceLabel</th>\n",
       "      <th>LikeCount</th>\n",
       "      <th>RetweetCount</th>\n",
       "      <th>id</th>\n",
       "      <th>RetweetCount.1</th>\n",
       "      <th>MentionedUser</th>\n",
       "      <th>ReplyCount</th>\n",
       "      <th>Language</th>\n",
       "    </tr>\n",
       "  </thead>\n",
       "  <tbody>\n",
       "    <tr>\n",
       "      <th>0</th>\n",
       "      <td>2022-06-18 17:51:56+00:00</td>\n",
       "      <td>Sir_Obidike</td>\n",
       "      <td>Never doubt that a small group of thoughtful, ...</td>\n",
       "      <td>['PeterObi4President', 'PeterObi2023', 'Labour...</td>\n",
       "      <td>Twitter for Android</td>\n",
       "      <td>2</td>\n",
       "      <td>1</td>\n",
       "      <td>1.538218e+18</td>\n",
       "      <td>1.0</td>\n",
       "      <td>NaN</td>\n",
       "      <td>0.0</td>\n",
       "      <td>en</td>\n",
       "    </tr>\n",
       "    <tr>\n",
       "      <th>1</th>\n",
       "      <td>2022-06-18 17:36:53+00:00</td>\n",
       "      <td>UchennnaOkongwu</td>\n",
       "      <td>Here's Peter obi when he went to South Africa ...</td>\n",
       "      <td>['PeterObi4President2023', 'PeterObi2023', 'NN...</td>\n",
       "      <td>Twitter for Android</td>\n",
       "      <td>0</td>\n",
       "      <td>0</td>\n",
       "      <td>1.538214e+18</td>\n",
       "      <td>0.0</td>\n",
       "      <td>NaN</td>\n",
       "      <td>0.0</td>\n",
       "      <td>en</td>\n",
       "    </tr>\n",
       "    <tr>\n",
       "      <th>2</th>\n",
       "      <td>2022-06-18 17:29:19+00:00</td>\n",
       "      <td>temmytope9242</td>\n",
       "      <td>Peter Obi or Nobody 👍✅\\n\\n#PeterObi4President ...</td>\n",
       "      <td>['PeterObi4President', 'PeterObiForPresident20...</td>\n",
       "      <td>Twitter for Android</td>\n",
       "      <td>0</td>\n",
       "      <td>0</td>\n",
       "      <td>1.538212e+18</td>\n",
       "      <td>0.0</td>\n",
       "      <td>NaN</td>\n",
       "      <td>0.0</td>\n",
       "      <td>en</td>\n",
       "    </tr>\n",
       "    <tr>\n",
       "      <th>3</th>\n",
       "      <td>2022-06-18 17:28:39+00:00</td>\n",
       "      <td>PresidentIye</td>\n",
       "      <td>Education is not the most important thing in l...</td>\n",
       "      <td>['thinkyourownthought', 'LabourParty4PeterObi'...</td>\n",
       "      <td>Twitter for iPhone</td>\n",
       "      <td>0</td>\n",
       "      <td>0</td>\n",
       "      <td>1.538212e+18</td>\n",
       "      <td>0.0</td>\n",
       "      <td>[User(username='SteveHarveyFM', id=4062635777,...</td>\n",
       "      <td>0.0</td>\n",
       "      <td>en</td>\n",
       "    </tr>\n",
       "    <tr>\n",
       "      <th>4</th>\n",
       "      <td>2022-06-18 17:25:41+00:00</td>\n",
       "      <td>joebyto</td>\n",
       "      <td>Vote buying is the new structure now! Come 202...</td>\n",
       "      <td>['WeNoDeyGiveShishi', 'PeterObiForPresident202...</td>\n",
       "      <td>Twitter for Android</td>\n",
       "      <td>0</td>\n",
       "      <td>0</td>\n",
       "      <td>1.538211e+18</td>\n",
       "      <td>0.0</td>\n",
       "      <td>NaN</td>\n",
       "      <td>0.0</td>\n",
       "      <td>en</td>\n",
       "    </tr>\n",
       "  </tbody>\n",
       "</table>\n",
       "</div>"
      ],
      "text/plain": [
       "                        Date             User  \\\n",
       "0  2022-06-18 17:51:56+00:00      Sir_Obidike   \n",
       "1  2022-06-18 17:36:53+00:00  UchennnaOkongwu   \n",
       "2  2022-06-18 17:29:19+00:00    temmytope9242   \n",
       "3  2022-06-18 17:28:39+00:00     PresidentIye   \n",
       "4  2022-06-18 17:25:41+00:00          joebyto   \n",
       "\n",
       "                                               Tweet  \\\n",
       "0  Never doubt that a small group of thoughtful, ...   \n",
       "1  Here's Peter obi when he went to South Africa ...   \n",
       "2  Peter Obi or Nobody 👍✅\\n\\n#PeterObi4President ...   \n",
       "3  Education is not the most important thing in l...   \n",
       "4  Vote buying is the new structure now! Come 202...   \n",
       "\n",
       "                                            Hashtags          SourceLabel  \\\n",
       "0  ['PeterObi4President', 'PeterObi2023', 'Labour...  Twitter for Android   \n",
       "1  ['PeterObi4President2023', 'PeterObi2023', 'NN...  Twitter for Android   \n",
       "2  ['PeterObi4President', 'PeterObiForPresident20...  Twitter for Android   \n",
       "3  ['thinkyourownthought', 'LabourParty4PeterObi'...   Twitter for iPhone   \n",
       "4  ['WeNoDeyGiveShishi', 'PeterObiForPresident202...  Twitter for Android   \n",
       "\n",
       "   LikeCount  RetweetCount            id  RetweetCount.1  \\\n",
       "0          2             1  1.538218e+18             1.0   \n",
       "1          0             0  1.538214e+18             0.0   \n",
       "2          0             0  1.538212e+18             0.0   \n",
       "3          0             0  1.538212e+18             0.0   \n",
       "4          0             0  1.538211e+18             0.0   \n",
       "\n",
       "                                       MentionedUser  ReplyCount Language  \n",
       "0                                                NaN         0.0       en  \n",
       "1                                                NaN         0.0       en  \n",
       "2                                                NaN         0.0       en  \n",
       "3  [User(username='SteveHarveyFM', id=4062635777,...         0.0       en  \n",
       "4                                                NaN         0.0       en  "
      ]
     },
     "execution_count": 15,
     "metadata": {},
     "output_type": "execute_result"
    }
   ],
   "source": [
    "data.head()"
   ]
  },
  {
   "cell_type": "code",
   "execution_count": 16,
   "metadata": {},
   "outputs": [
    {
     "data": {
      "text/html": [
       "<div>\n",
       "<style scoped>\n",
       "    .dataframe tbody tr th:only-of-type {\n",
       "        vertical-align: middle;\n",
       "    }\n",
       "\n",
       "    .dataframe tbody tr th {\n",
       "        vertical-align: top;\n",
       "    }\n",
       "\n",
       "    .dataframe thead th {\n",
       "        text-align: right;\n",
       "    }\n",
       "</style>\n",
       "<table border=\"1\" class=\"dataframe\">\n",
       "  <thead>\n",
       "    <tr style=\"text-align: right;\">\n",
       "      <th></th>\n",
       "      <th>LikeCount</th>\n",
       "      <th>RetweetCount</th>\n",
       "      <th>id</th>\n",
       "      <th>RetweetCount.1</th>\n",
       "      <th>ReplyCount</th>\n",
       "    </tr>\n",
       "  </thead>\n",
       "  <tbody>\n",
       "    <tr>\n",
       "      <th>count</th>\n",
       "      <td>101064.000000</td>\n",
       "      <td>101064.000000</td>\n",
       "      <td>8.106400e+04</td>\n",
       "      <td>81064.000000</td>\n",
       "      <td>81064.000000</td>\n",
       "    </tr>\n",
       "    <tr>\n",
       "      <th>mean</th>\n",
       "      <td>17.249357</td>\n",
       "      <td>5.920348</td>\n",
       "      <td>1.536635e+18</td>\n",
       "      <td>6.546013</td>\n",
       "      <td>0.746558</td>\n",
       "    </tr>\n",
       "    <tr>\n",
       "      <th>std</th>\n",
       "      <td>288.679880</td>\n",
       "      <td>86.223982</td>\n",
       "      <td>1.548379e+15</td>\n",
       "      <td>90.420394</td>\n",
       "      <td>10.526371</td>\n",
       "    </tr>\n",
       "    <tr>\n",
       "      <th>min</th>\n",
       "      <td>0.000000</td>\n",
       "      <td>0.000000</td>\n",
       "      <td>1.519977e+18</td>\n",
       "      <td>0.000000</td>\n",
       "      <td>0.000000</td>\n",
       "    </tr>\n",
       "    <tr>\n",
       "      <th>25%</th>\n",
       "      <td>0.000000</td>\n",
       "      <td>0.000000</td>\n",
       "      <td>1.535982e+18</td>\n",
       "      <td>0.000000</td>\n",
       "      <td>0.000000</td>\n",
       "    </tr>\n",
       "    <tr>\n",
       "      <th>50%</th>\n",
       "      <td>1.000000</td>\n",
       "      <td>0.000000</td>\n",
       "      <td>1.537094e+18</td>\n",
       "      <td>0.000000</td>\n",
       "      <td>0.000000</td>\n",
       "    </tr>\n",
       "    <tr>\n",
       "      <th>75%</th>\n",
       "      <td>3.000000</td>\n",
       "      <td>1.000000</td>\n",
       "      <td>1.537697e+18</td>\n",
       "      <td>1.000000</td>\n",
       "      <td>0.000000</td>\n",
       "    </tr>\n",
       "    <tr>\n",
       "      <th>max</th>\n",
       "      <td>33557.000000</td>\n",
       "      <td>7702.000000</td>\n",
       "      <td>1.538221e+18</td>\n",
       "      <td>7368.000000</td>\n",
       "      <td>1045.000000</td>\n",
       "    </tr>\n",
       "  </tbody>\n",
       "</table>\n",
       "</div>"
      ],
      "text/plain": [
       "           LikeCount   RetweetCount            id  RetweetCount.1  \\\n",
       "count  101064.000000  101064.000000  8.106400e+04    81064.000000   \n",
       "mean       17.249357       5.920348  1.536635e+18        6.546013   \n",
       "std       288.679880      86.223982  1.548379e+15       90.420394   \n",
       "min         0.000000       0.000000  1.519977e+18        0.000000   \n",
       "25%         0.000000       0.000000  1.535982e+18        0.000000   \n",
       "50%         1.000000       0.000000  1.537094e+18        0.000000   \n",
       "75%         3.000000       1.000000  1.537697e+18        1.000000   \n",
       "max     33557.000000    7702.000000  1.538221e+18     7368.000000   \n",
       "\n",
       "         ReplyCount  \n",
       "count  81064.000000  \n",
       "mean       0.746558  \n",
       "std       10.526371  \n",
       "min        0.000000  \n",
       "25%        0.000000  \n",
       "50%        0.000000  \n",
       "75%        0.000000  \n",
       "max     1045.000000  "
      ]
     },
     "execution_count": 16,
     "metadata": {},
     "output_type": "execute_result"
    }
   ],
   "source": [
    "data.describe()"
   ]
  },
  {
   "cell_type": "markdown",
   "metadata": {},
   "source": [
    "##### Statistical analysis shows average of 17 likes, average of 6 retweets and average of 0.7 replies which means majority of the users are either new accounts or less popular accounts on Twitter¶"
   ]
  },
  {
   "cell_type": "code",
   "execution_count": 17,
   "metadata": {},
   "outputs": [
    {
     "data": {
      "text/plain": [
       "'2022-03-04 18:00:19+00:00'"
      ]
     },
     "execution_count": 17,
     "metadata": {},
     "output_type": "execute_result"
    }
   ],
   "source": [
    "#Earliest Date\n",
    "min(data['Date'])"
   ]
  },
  {
   "cell_type": "code",
   "execution_count": 18,
   "metadata": {},
   "outputs": [
    {
     "data": {
      "text/plain": [
       "'2022-06-18 18:03:43+00:00'"
      ]
     },
     "execution_count": 18,
     "metadata": {},
     "output_type": "execute_result"
    }
   ],
   "source": [
    "#Latest date\n",
    "max(data['Date'])"
   ]
  },
  {
   "cell_type": "markdown",
   "metadata": {},
   "source": [
    "##### The Data scraped is between 6pm on the 4th of March 2022 to 6:03 pm on the 18th of June 2022( 3 months data)"
   ]
  },
  {
   "cell_type": "code",
   "execution_count": 19,
   "metadata": {},
   "outputs": [
    {
     "name": "stdout",
     "output_type": "stream",
     "text": [
      "<class 'pandas.core.frame.DataFrame'>\n",
      "Int64Index: 101064 entries, 0 to 13703\n",
      "Data columns (total 12 columns):\n",
      " #   Column          Non-Null Count   Dtype  \n",
      "---  ------          --------------   -----  \n",
      " 0   Date            101064 non-null  object \n",
      " 1   User            101064 non-null  object \n",
      " 2   Tweet           101064 non-null  object \n",
      " 3   Hashtags        101059 non-null  object \n",
      " 4   SourceLabel     101064 non-null  object \n",
      " 5   LikeCount       101064 non-null  int64  \n",
      " 6   RetweetCount    101064 non-null  int64  \n",
      " 7   id              81064 non-null   float64\n",
      " 8   RetweetCount.1  81064 non-null   float64\n",
      " 9   MentionedUser   28016 non-null   object \n",
      " 10  ReplyCount      81064 non-null   float64\n",
      " 11  Language        81064 non-null   object \n",
      "dtypes: float64(3), int64(2), object(7)\n",
      "memory usage: 10.0+ MB\n"
     ]
    }
   ],
   "source": [
    "data.info()"
   ]
  },
  {
   "cell_type": "code",
   "execution_count": 20,
   "metadata": {},
   "outputs": [
    {
     "name": "stdout",
     "output_type": "stream",
     "text": [
      "<class 'pandas.core.frame.DataFrame'>\n",
      "Int64Index: 101064 entries, 0 to 13703\n",
      "Data columns (total 12 columns):\n",
      " #   Column          Non-Null Count   Dtype              \n",
      "---  ------          --------------   -----              \n",
      " 0   Date            101064 non-null  datetime64[ns, UTC]\n",
      " 1   User            101064 non-null  object             \n",
      " 2   Tweet           101064 non-null  object             \n",
      " 3   Hashtags        101059 non-null  object             \n",
      " 4   SourceLabel     101064 non-null  object             \n",
      " 5   LikeCount       101064 non-null  int64              \n",
      " 6   RetweetCount    101064 non-null  int64              \n",
      " 7   id              81064 non-null   float64            \n",
      " 8   RetweetCount.1  81064 non-null   float64            \n",
      " 9   MentionedUser   28016 non-null   object             \n",
      " 10  ReplyCount      81064 non-null   float64            \n",
      " 11  Language        81064 non-null   object             \n",
      "dtypes: datetime64[ns, UTC](1), float64(3), int64(2), object(6)\n",
      "memory usage: 10.0+ MB\n"
     ]
    }
   ],
   "source": [
    "data['Date'] = pd.to_datetime(data['Date'])\n",
    "data.info()"
   ]
  },
  {
   "cell_type": "code",
   "execution_count": 21,
   "metadata": {},
   "outputs": [
    {
     "data": {
      "text/html": [
       "<div>\n",
       "<style scoped>\n",
       "    .dataframe tbody tr th:only-of-type {\n",
       "        vertical-align: middle;\n",
       "    }\n",
       "\n",
       "    .dataframe tbody tr th {\n",
       "        vertical-align: top;\n",
       "    }\n",
       "\n",
       "    .dataframe thead th {\n",
       "        text-align: right;\n",
       "    }\n",
       "</style>\n",
       "<table border=\"1\" class=\"dataframe\">\n",
       "  <thead>\n",
       "    <tr style=\"text-align: right;\">\n",
       "      <th></th>\n",
       "      <th>Date</th>\n",
       "      <th>User</th>\n",
       "      <th>Tweet</th>\n",
       "      <th>Hashtags</th>\n",
       "      <th>SourceLabel</th>\n",
       "      <th>LikeCount</th>\n",
       "      <th>RetweetCount</th>\n",
       "      <th>id</th>\n",
       "      <th>RetweetCount.1</th>\n",
       "      <th>MentionedUser</th>\n",
       "      <th>ReplyCount</th>\n",
       "      <th>Language</th>\n",
       "      <th>Time</th>\n",
       "    </tr>\n",
       "  </thead>\n",
       "  <tbody>\n",
       "    <tr>\n",
       "      <th>0</th>\n",
       "      <td>2022-06-18</td>\n",
       "      <td>Sir_Obidike</td>\n",
       "      <td>Never doubt that a small group of thoughtful, ...</td>\n",
       "      <td>['PeterObi4President', 'PeterObi2023', 'Labour...</td>\n",
       "      <td>Twitter for Android</td>\n",
       "      <td>2</td>\n",
       "      <td>1</td>\n",
       "      <td>1.538218e+18</td>\n",
       "      <td>1.0</td>\n",
       "      <td>NaN</td>\n",
       "      <td>0.0</td>\n",
       "      <td>en</td>\n",
       "      <td>17:51:56</td>\n",
       "    </tr>\n",
       "    <tr>\n",
       "      <th>1</th>\n",
       "      <td>2022-06-18</td>\n",
       "      <td>UchennnaOkongwu</td>\n",
       "      <td>Here's Peter obi when he went to South Africa ...</td>\n",
       "      <td>['PeterObi4President2023', 'PeterObi2023', 'NN...</td>\n",
       "      <td>Twitter for Android</td>\n",
       "      <td>0</td>\n",
       "      <td>0</td>\n",
       "      <td>1.538214e+18</td>\n",
       "      <td>0.0</td>\n",
       "      <td>NaN</td>\n",
       "      <td>0.0</td>\n",
       "      <td>en</td>\n",
       "      <td>17:36:53</td>\n",
       "    </tr>\n",
       "    <tr>\n",
       "      <th>2</th>\n",
       "      <td>2022-06-18</td>\n",
       "      <td>temmytope9242</td>\n",
       "      <td>Peter Obi or Nobody 👍✅\\n\\n#PeterObi4President ...</td>\n",
       "      <td>['PeterObi4President', 'PeterObiForPresident20...</td>\n",
       "      <td>Twitter for Android</td>\n",
       "      <td>0</td>\n",
       "      <td>0</td>\n",
       "      <td>1.538212e+18</td>\n",
       "      <td>0.0</td>\n",
       "      <td>NaN</td>\n",
       "      <td>0.0</td>\n",
       "      <td>en</td>\n",
       "      <td>17:29:19</td>\n",
       "    </tr>\n",
       "    <tr>\n",
       "      <th>3</th>\n",
       "      <td>2022-06-18</td>\n",
       "      <td>PresidentIye</td>\n",
       "      <td>Education is not the most important thing in l...</td>\n",
       "      <td>['thinkyourownthought', 'LabourParty4PeterObi'...</td>\n",
       "      <td>Twitter for iPhone</td>\n",
       "      <td>0</td>\n",
       "      <td>0</td>\n",
       "      <td>1.538212e+18</td>\n",
       "      <td>0.0</td>\n",
       "      <td>[User(username='SteveHarveyFM', id=4062635777,...</td>\n",
       "      <td>0.0</td>\n",
       "      <td>en</td>\n",
       "      <td>17:28:39</td>\n",
       "    </tr>\n",
       "    <tr>\n",
       "      <th>4</th>\n",
       "      <td>2022-06-18</td>\n",
       "      <td>joebyto</td>\n",
       "      <td>Vote buying is the new structure now! Come 202...</td>\n",
       "      <td>['WeNoDeyGiveShishi', 'PeterObiForPresident202...</td>\n",
       "      <td>Twitter for Android</td>\n",
       "      <td>0</td>\n",
       "      <td>0</td>\n",
       "      <td>1.538211e+18</td>\n",
       "      <td>0.0</td>\n",
       "      <td>NaN</td>\n",
       "      <td>0.0</td>\n",
       "      <td>en</td>\n",
       "      <td>17:25:41</td>\n",
       "    </tr>\n",
       "  </tbody>\n",
       "</table>\n",
       "</div>"
      ],
      "text/plain": [
       "         Date             User  \\\n",
       "0  2022-06-18      Sir_Obidike   \n",
       "1  2022-06-18  UchennnaOkongwu   \n",
       "2  2022-06-18    temmytope9242   \n",
       "3  2022-06-18     PresidentIye   \n",
       "4  2022-06-18          joebyto   \n",
       "\n",
       "                                               Tweet  \\\n",
       "0  Never doubt that a small group of thoughtful, ...   \n",
       "1  Here's Peter obi when he went to South Africa ...   \n",
       "2  Peter Obi or Nobody 👍✅\\n\\n#PeterObi4President ...   \n",
       "3  Education is not the most important thing in l...   \n",
       "4  Vote buying is the new structure now! Come 202...   \n",
       "\n",
       "                                            Hashtags          SourceLabel  \\\n",
       "0  ['PeterObi4President', 'PeterObi2023', 'Labour...  Twitter for Android   \n",
       "1  ['PeterObi4President2023', 'PeterObi2023', 'NN...  Twitter for Android   \n",
       "2  ['PeterObi4President', 'PeterObiForPresident20...  Twitter for Android   \n",
       "3  ['thinkyourownthought', 'LabourParty4PeterObi'...   Twitter for iPhone   \n",
       "4  ['WeNoDeyGiveShishi', 'PeterObiForPresident202...  Twitter for Android   \n",
       "\n",
       "   LikeCount  RetweetCount            id  RetweetCount.1  \\\n",
       "0          2             1  1.538218e+18             1.0   \n",
       "1          0             0  1.538214e+18             0.0   \n",
       "2          0             0  1.538212e+18             0.0   \n",
       "3          0             0  1.538212e+18             0.0   \n",
       "4          0             0  1.538211e+18             0.0   \n",
       "\n",
       "                                       MentionedUser  ReplyCount Language  \\\n",
       "0                                                NaN         0.0       en   \n",
       "1                                                NaN         0.0       en   \n",
       "2                                                NaN         0.0       en   \n",
       "3  [User(username='SteveHarveyFM', id=4062635777,...         0.0       en   \n",
       "4                                                NaN         0.0       en   \n",
       "\n",
       "       Time  \n",
       "0  17:51:56  \n",
       "1  17:36:53  \n",
       "2  17:29:19  \n",
       "3  17:28:39  \n",
       "4  17:25:41  "
      ]
     },
     "execution_count": 21,
     "metadata": {},
     "output_type": "execute_result"
    }
   ],
   "source": [
    "import datetime as dt\n",
    "data = data.assign(Date=data.Date.dt.date, Time = data.Date.dt.time)\n",
    "data.head()"
   ]
  },
  {
   "cell_type": "code",
   "execution_count": 22,
   "metadata": {},
   "outputs": [],
   "source": [
    "data['Date'] = pd.to_datetime(data['Date'])"
   ]
  },
  {
   "cell_type": "code",
   "execution_count": 23,
   "metadata": {},
   "outputs": [],
   "source": [
    "data['month'] = data['Date'].dt.month"
   ]
  },
  {
   "cell_type": "code",
   "execution_count": 24,
   "metadata": {},
   "outputs": [],
   "source": [
    "mn = {3:'March',4:'April',5:'May',6:'June'}\n",
    "data['month_name'] = data['month'].map(mn)"
   ]
  },
  {
   "cell_type": "code",
   "execution_count": 25,
   "metadata": {},
   "outputs": [
    {
     "data": {
      "image/png": "[encoded data removed]",
      "text/plain": [
       "<Figure size 576x360 with 1 Axes>"
      ]
     },
     "metadata": {
      "needs_background": "light"
     },
     "output_type": "display_data"
    }
   ],
   "source": [
    "plt.figure(figsize=(8,5))\n",
    "sns.countplot(x='month_name',data=data)\n",
    "plt.ylabel(\"Number of Tweets\")\n",
    "plt.xlabel(\"Month\")\n",
    "plt.show()"
   ]
  },
  {
   "cell_type": "markdown",
   "metadata": {},
   "source": [
    "##### Number of tweets increases with time. There is a great increase in June compare to the previous months"
   ]
  },
  {
   "cell_type": "code",
   "execution_count": 26,
   "metadata": {},
   "outputs": [
    {
     "data": {
      "text/plain": [
       "780"
      ]
     },
     "execution_count": 26,
     "metadata": {},
     "output_type": "execute_result"
    }
   ],
   "source": [
    "march_user = data[data['month_name']=='March']['User'].nunique()\n",
    "march_user"
   ]
  },
  {
   "cell_type": "code",
   "execution_count": 27,
   "metadata": {},
   "outputs": [
    {
     "data": {
      "text/plain": [
       "1212"
      ]
     },
     "execution_count": 27,
     "metadata": {},
     "output_type": "execute_result"
    }
   ],
   "source": [
    "April_user = data[data['month_name']=='April']['User'].nunique()\n",
    "April_user"
   ]
  },
  {
   "cell_type": "code",
   "execution_count": 28,
   "metadata": {},
   "outputs": [
    {
     "data": {
      "text/plain": [
       "5098"
      ]
     },
     "execution_count": 28,
     "metadata": {},
     "output_type": "execute_result"
    }
   ],
   "source": [
    "may_user = data[data['month_name']=='May']['User'].nunique()\n",
    "may_user"
   ]
  },
  {
   "cell_type": "code",
   "execution_count": 29,
   "metadata": {},
   "outputs": [
    {
     "data": {
      "text/plain": [
       "25872"
      ]
     },
     "execution_count": 29,
     "metadata": {},
     "output_type": "execute_result"
    }
   ],
   "source": [
    "June_user = data[data['month_name']=='June']['User'].nunique()\n",
    "June_user"
   ]
  },
  {
   "cell_type": "code",
   "execution_count": 30,
   "metadata": {},
   "outputs": [
    {
     "data": {
      "text/html": [
       "<div>\n",
       "<style scoped>\n",
       "    .dataframe tbody tr th:only-of-type {\n",
       "        vertical-align: middle;\n",
       "    }\n",
       "\n",
       "    .dataframe tbody tr th {\n",
       "        vertical-align: top;\n",
       "    }\n",
       "\n",
       "    .dataframe thead th {\n",
       "        text-align: right;\n",
       "    }\n",
       "</style>\n",
       "<table border=\"1\" class=\"dataframe\">\n",
       "  <thead>\n",
       "    <tr style=\"text-align: right;\">\n",
       "      <th></th>\n",
       "      <th>Month</th>\n",
       "      <th>Unique_user</th>\n",
       "    </tr>\n",
       "  </thead>\n",
       "  <tbody>\n",
       "    <tr>\n",
       "      <th>0</th>\n",
       "      <td>Mar</td>\n",
       "      <td>780</td>\n",
       "    </tr>\n",
       "    <tr>\n",
       "      <th>1</th>\n",
       "      <td>Apr</td>\n",
       "      <td>1212</td>\n",
       "    </tr>\n",
       "    <tr>\n",
       "      <th>2</th>\n",
       "      <td>May</td>\n",
       "      <td>5098</td>\n",
       "    </tr>\n",
       "    <tr>\n",
       "      <th>3</th>\n",
       "      <td>Jun</td>\n",
       "      <td>25872</td>\n",
       "    </tr>\n",
       "  </tbody>\n",
       "</table>\n",
       "</div>"
      ],
      "text/plain": [
       "  Month  Unique_user\n",
       "0   Mar          780\n",
       "1   Apr         1212\n",
       "2   May         5098\n",
       "3   Jun        25872"
      ]
     },
     "execution_count": 30,
     "metadata": {},
     "output_type": "execute_result"
    }
   ],
   "source": [
    "combined_month = pd.DataFrame({'Month':['Mar','Apr','May','Jun'],\n",
    "                              'Unique_user' : [march_user,April_user,may_user,June_user]})\n",
    "combined_month"
   ]
  },
  {
   "cell_type": "code",
   "execution_count": 31,
   "metadata": {},
   "outputs": [
    {
     "data": {
      "image/png": "[encoded data removed]",
      "text/plain": [
       "<Figure size 576x360 with 1 Axes>"
      ]
     },
     "metadata": {
      "needs_background": "light"
     },
     "output_type": "display_data"
    }
   ],
   "source": [
    "plt.figure(figsize=(8,5))\n",
    "sns.lineplot(x='Month',y='Unique_user',data=combined_month)\n",
    "plt.show()"
   ]
  },
  {
   "cell_type": "code",
   "execution_count": 32,
   "metadata": {},
   "outputs": [
    {
     "data": {
      "image/png": "[encoded data removed]",
      "text/plain": [
       "<Figure size 576x360 with 1 Axes>"
      ]
     },
     "metadata": {
      "needs_background": "light"
     },
     "output_type": "display_data"
    }
   ],
   "source": [
    "plt.figure(figsize=(8,5))\n",
    "sns.barplot(x='Month',y='Unique_user',data=combined_month)\n",
    "plt.show()"
   ]
  },
  {
   "cell_type": "markdown",
   "metadata": {},
   "source": [
    "##### Number of unique user increases with time from march with a great margin in june, more than 20k additional unique user in June"
   ]
  },
  {
   "cell_type": "code",
   "execution_count": 33,
   "metadata": {},
   "outputs": [
    {
     "data": {
      "text/plain": [
       "30356"
      ]
     },
     "execution_count": 33,
     "metadata": {},
     "output_type": "execute_result"
    }
   ],
   "source": [
    "# Total Number of unique users/accounts\n",
    "data['User'].nunique()"
   ]
  },
  {
   "cell_type": "markdown",
   "metadata": {},
   "source": [
    "##### There are  total of 30,356 unique users/accounts from the 101,064 rows of the combined data"
   ]
  },
  {
   "cell_type": "markdown",
   "metadata": {},
   "source": [
    "#### ANALYZING TWEETS WITH HIGH NUMBER OF LIKES, RETWEETS AND ENGAGEMENTS FOR INDIVIDUAL TWEETS"
   ]
  },
  {
   "cell_type": "code",
   "execution_count": 34,
   "metadata": {},
   "outputs": [
    {
     "data": {
      "text/plain": [
       "(291, 15)"
      ]
     },
     "execution_count": 34,
     "metadata": {},
     "output_type": "execute_result"
    }
   ],
   "source": [
    "#Analyzing the number of users with more than 1000 likes in a single tweet\n",
    "likes_more_than_1k = data[data['LikeCount'] >= 1000]\n",
    "likes_more_than_1k.shape"
   ]
  },
  {
   "cell_type": "code",
   "execution_count": 35,
   "metadata": {},
   "outputs": [
    {
     "data": {
      "text/plain": [
       "array(['AfamDeluxo', 'oluwaloninyo', 'vin_chimaobi042', 'Jack_ng01',\n",
       "       'stefan_nosa', 'OmaJane4', 'tz_eblaq', 'NwunyeBright', 'FS_Yusuf_',\n",
       "       'SuleDeco', 'Chude__', 'TakeBackNaija_', 'OfficialNNPPng',\n",
       "       'AhmedAbdulla09', 'DAndrewberry', 'Gimbiyaah', 'Glorialexxy',\n",
       "       'WorkingDruid', 'Neo_officiall', 'OgboleMichael52', 'Yusuf2020Mk',\n",
       "       'IOkwuijen', 'blusy8', 'Chuks_Eric_', 'ChukwebukaOkoli',\n",
       "       'NNpeterobi', 'KadariaAhmed', 'LisaShawUK1999', 'derekjames150',\n",
       "       'LeeMcK77', 'itskirsty18', 'akintollgate', 'kelechukuiruoma',\n",
       "       'PO_GrassRoots', 'PeterObiUSA', 'VeeStrinqz', 'nnamdi2much',\n",
       "       'Spotlight_Abby', 'Abdulrahaman___', 'VincentGift8', 'DrSirme',\n",
       "       'Naki_Nephawe', 'designs4obi2023', 'Sharonimouks', 'paulakingbola',\n",
       "       'OsitaAmakeze', 'ejykmykel1', 'Khemipearl213', 'Brainzbillion',\n",
       "       'EarlAlright', 'iamstevemario', 'LanceEarn', 'ObiSupport',\n",
       "       'officialPOSG', 'Gabota28', 'HelenDinma', 'hasanaaliyu',\n",
       "       'Unigwechidalu', 'RealOlaudah', 'rev_yinkayusuf', 'Obinna_esq',\n",
       "       'NnamdiChife', 'KenEke20', 'bakingessentia', 'mentality_star',\n",
       "       'phgirl129', 'NGRLabourParty', 'cumbeerinda', 'Zarmaomar',\n",
       "       '__IamOgar', 'Mayorspeaks', 'surboi', 'honeychukwu',\n",
       "       'Official_LPN', 'Shehusky', 'Kk_frontline', 'NgLabourParty',\n",
       "       'Nkemchor_', 'MarvelRoberts9', 'firstdoctorr', 'FreedomPaul6',\n",
       "       'PeterObiHQ', 'akordenix', 'OBIdient_FC', 'hardworkercoco',\n",
       "       'Oyinkitana', 'AyebamieteG', 'PeterPsquare', 'VictorIsrael_',\n",
       "       'Arewa_mayor', 'SamEbaDan', 'ozii_baba', 'youngsonmatt', 'chibuok',\n",
       "       'girllikegemmSZN', 'senatorchuba', 'OdauduEne', 'RuggedyBaba',\n",
       "       'steve_destiny', 'Abduezhin', 'UCJustyn', 'ibraimetijaqq',\n",
       "       'Ayodelekevin1', 'RabiuMJauro', 'gaiuschibueze', 'Fullness_101',\n",
       "       'CrownprinceCom2', 'Jessehallidaygi', 'BlogAishat', 'KennethEgwu1',\n",
       "       'Penukz', 'honeyadum', 'UchePOkoye', 'RuthEronini',\n",
       "       'ChigozieIAlex', 'okechi_ng', 'realTobiAkinbo', 'Onyemaizuchi',\n",
       "       'mrmyke_1', 'Femillionairee', 'Al_BashirM', 'focus_chikamso',\n",
       "       'technocratvince', 'Felixnkn', 'Benjaminmorgan0', 'Champele',\n",
       "       'Blair_Balqees', 'anasahijo', 'ceebyk', 'biggiman90', 'MLS_Teey',\n",
       "       'OBIdient_youth', 'PBbns5', 'attahirmjb', 'Aboki_Nagari',\n",
       "       'halleyakars', 'chinkesara', 'sarkiiie', 'EmmanuelAkpe',\n",
       "       'Oyekanmijr'], dtype=object)"
      ]
     },
     "execution_count": 35,
     "metadata": {},
     "output_type": "execute_result"
    }
   ],
   "source": [
    "high_like_user = likes_more_than_1k['User'].unique()\n",
    "high_like_user"
   ]
  },
  {
   "cell_type": "code",
   "execution_count": 36,
   "metadata": {},
   "outputs": [],
   "source": [
    "like_user = likes_more_than_1k[['User','LikeCount']].sort_values(by='LikeCount',ascending=False).head(15)"
   ]
  },
  {
   "cell_type": "code",
   "execution_count": 37,
   "metadata": {},
   "outputs": [
    {
     "data": {
      "image/png": "[encoded data removed]",
      "text/plain": [
       "<Figure size 720x360 with 1 Axes>"
      ]
     },
     "metadata": {
      "needs_background": "light"
     },
     "output_type": "display_data"
    }
   ],
   "source": [
    "#Bar plot of 10 acount/user with highest number of retweets\n",
    "plt.figure(figsize=(10,5))\n",
    "sns.barplot(x= 'User', y= 'LikeCount',data = like_user,ci=None)\n",
    "plt.ylabel(\"Number of Likes\")\n",
    "plt.xticks(rotation='vertical')\n",
    "plt.show()"
   ]
  },
  {
   "cell_type": "markdown",
   "metadata": {},
   "source": [
    "#### The above bar chart shows the top ten users/accounts with the highest number of likes for individual tweets"
   ]
  },
  {
   "cell_type": "code",
   "execution_count": 38,
   "metadata": {},
   "outputs": [
    {
     "data": {
      "text/plain": [
       "Date               26\n",
       "User              140\n",
       "Tweet             207\n",
       "Hashtags          124\n",
       "SourceLabel         4\n",
       "LikeCount         212\n",
       "RetweetCount      205\n",
       "id                186\n",
       "RetweetCount.1    186\n",
       "MentionedUser      22\n",
       "ReplyCount        113\n",
       "Language            3\n",
       "Time              207\n",
       "month               3\n",
       "month_name          3\n",
       "dtype: int64"
      ]
     },
     "execution_count": 38,
     "metadata": {},
     "output_type": "execute_result"
    }
   ],
   "source": [
    "likes_more_than_1k.nunique()"
   ]
  },
  {
   "cell_type": "code",
   "execution_count": 39,
   "metadata": {},
   "outputs": [
    {
     "data": {
      "text/plain": [
       "140"
      ]
     },
     "execution_count": 39,
     "metadata": {},
     "output_type": "execute_result"
    }
   ],
   "source": [
    "#Number of unique Users with more than 1000 likes\n",
    "likes_more_than_1k['User'].nunique()"
   ]
  },
  {
   "cell_type": "markdown",
   "metadata": {},
   "source": [
    "##### There are 140 accounts with more than 1000 likes"
   ]
  },
  {
   "cell_type": "code",
   "execution_count": 40,
   "metadata": {},
   "outputs": [
    {
     "data": {
      "text/plain": [
       "(118, 15)"
      ]
     },
     "execution_count": 40,
     "metadata": {},
     "output_type": "execute_result"
    }
   ],
   "source": [
    "#Analyzing the number of users with more than 1000 retweet\n",
    "retweet_more_than_1k = data[data['RetweetCount'] >= 1000]\n",
    "retweet_more_than_1k.shape"
   ]
  },
  {
   "cell_type": "code",
   "execution_count": 41,
   "metadata": {},
   "outputs": [
    {
     "data": {
      "text/plain": [
       "Date              17\n",
       "User              61\n",
       "Tweet             82\n",
       "Hashtags          53\n",
       "SourceLabel        3\n",
       "LikeCount         86\n",
       "RetweetCount      83\n",
       "id                76\n",
       "RetweetCount.1    77\n",
       "MentionedUser      9\n",
       "ReplyCount        66\n",
       "Language           2\n",
       "Time              82\n",
       "month              2\n",
       "month_name         2\n",
       "dtype: int64"
      ]
     },
     "execution_count": 41,
     "metadata": {},
     "output_type": "execute_result"
    }
   ],
   "source": [
    "retweet_more_than_1k.nunique()"
   ]
  },
  {
   "cell_type": "code",
   "execution_count": 42,
   "metadata": {},
   "outputs": [
    {
     "data": {
      "text/plain": [
       "61"
      ]
     },
     "execution_count": 42,
     "metadata": {},
     "output_type": "execute_result"
    }
   ],
   "source": [
    "retweet_more_than_1k['User'].nunique()"
   ]
  },
  {
   "cell_type": "code",
   "execution_count": 43,
   "metadata": {},
   "outputs": [],
   "source": [
    "high_rt_user = retweet_more_than_1k['User'].unique()"
   ]
  },
  {
   "cell_type": "code",
   "execution_count": 44,
   "metadata": {},
   "outputs": [
    {
     "data": {
      "text/plain": [
       "array(['AfamDeluxo', 'tz_eblaq', 'NwunyeBright', 'FS_Yusuf_',\n",
       "       'OfficialNNPPng', 'Gimbiyaah', 'Glorialexxy', 'OgboleMichael52',\n",
       "       'Yusuf2020Mk', 'akintollgate', 'PeterObiUSA', 'nnamdi2much',\n",
       "       'Abdulrahaman___', 'Naki_Nephawe', 'Sharonimouks', 'OsitaAmakeze',\n",
       "       'ejykmykel1', 'Khemipearl213', 'Brainzbillion', 'iamstevemario',\n",
       "       'LanceEarn', 'ObiSupport', 'hasanaaliyu', 'RealOlaudah',\n",
       "       'mentality_star', '__IamOgar', 'Mayorspeaks', 'surboi',\n",
       "       'honeychukwu', 'Shehusky', 'NgLabourParty', 'Chude__',\n",
       "       'AhmedAbdulla09', 'PeterObiHQ', 'NGRLabourParty', 'PO_GrassRoots',\n",
       "       'PeterPsquare', 'chibuok', 'senatorchuba', 'Zarmaomar',\n",
       "       'RuggedyBaba', 'UCJustyn', 'Ayodelekevin1', 'Jessehallidaygi',\n",
       "       'KennethEgwu1', 'Penukz', 'UchePOkoye', 'ozii_baba',\n",
       "       'Official_LPN', 'mrmyke_1', 'Femillionairee', 'focus_chikamso',\n",
       "       'technocratvince', 'Felixnkn', 'ceebyk', 'biggiman90', 'MLS_Teey',\n",
       "       'Oyinkitana', 'OBIdient_youth', 'Abduezhin', 'Oyekanmijr'],\n",
       "      dtype=object)"
      ]
     },
     "execution_count": 44,
     "metadata": {},
     "output_type": "execute_result"
    }
   ],
   "source": [
    "high_rt_user "
   ]
  },
  {
   "cell_type": "markdown",
   "metadata": {},
   "source": [
    "##### There are  61 user with more than 1000 retweets"
   ]
  },
  {
   "cell_type": "code",
   "execution_count": 45,
   "metadata": {},
   "outputs": [
    {
     "data": {
      "text/plain": [
       "Twitter for Android    56\n",
       "Twitter for iPhone     55\n",
       "Twitter Web App         7\n",
       "Name: SourceLabel, dtype: int64"
      ]
     },
     "execution_count": 45,
     "metadata": {},
     "output_type": "execute_result"
    }
   ],
   "source": [
    "retweet_more_than_1k['SourceLabel'].value_counts()"
   ]
  },
  {
   "cell_type": "code",
   "execution_count": 46,
   "metadata": {},
   "outputs": [
    {
     "data": {
      "text/html": [
       "<div>\n",
       "<style scoped>\n",
       "    .dataframe tbody tr th:only-of-type {\n",
       "        vertical-align: middle;\n",
       "    }\n",
       "\n",
       "    .dataframe tbody tr th {\n",
       "        vertical-align: top;\n",
       "    }\n",
       "\n",
       "    .dataframe thead th {\n",
       "        text-align: right;\n",
       "    }\n",
       "</style>\n",
       "<table border=\"1\" class=\"dataframe\">\n",
       "  <thead>\n",
       "    <tr style=\"text-align: right;\">\n",
       "      <th></th>\n",
       "      <th>index</th>\n",
       "      <th>User</th>\n",
       "    </tr>\n",
       "  </thead>\n",
       "  <tbody>\n",
       "    <tr>\n",
       "      <th>0</th>\n",
       "      <td>Chude__</td>\n",
       "      <td>7</td>\n",
       "    </tr>\n",
       "    <tr>\n",
       "      <th>1</th>\n",
       "      <td>FS_Yusuf_</td>\n",
       "      <td>6</td>\n",
       "    </tr>\n",
       "    <tr>\n",
       "      <th>2</th>\n",
       "      <td>AfamDeluxo</td>\n",
       "      <td>5</td>\n",
       "    </tr>\n",
       "    <tr>\n",
       "      <th>3</th>\n",
       "      <td>ejykmykel1</td>\n",
       "      <td>5</td>\n",
       "    </tr>\n",
       "    <tr>\n",
       "      <th>4</th>\n",
       "      <td>Brainzbillion</td>\n",
       "      <td>4</td>\n",
       "    </tr>\n",
       "    <tr>\n",
       "      <th>...</th>\n",
       "      <td>...</td>\n",
       "      <td>...</td>\n",
       "    </tr>\n",
       "    <tr>\n",
       "      <th>56</th>\n",
       "      <td>Ayodelekevin1</td>\n",
       "      <td>1</td>\n",
       "    </tr>\n",
       "    <tr>\n",
       "      <th>57</th>\n",
       "      <td>OfficialNNPPng</td>\n",
       "      <td>1</td>\n",
       "    </tr>\n",
       "    <tr>\n",
       "      <th>58</th>\n",
       "      <td>biggiman90</td>\n",
       "      <td>1</td>\n",
       "    </tr>\n",
       "    <tr>\n",
       "      <th>59</th>\n",
       "      <td>PO_GrassRoots</td>\n",
       "      <td>1</td>\n",
       "    </tr>\n",
       "    <tr>\n",
       "      <th>60</th>\n",
       "      <td>senatorchuba</td>\n",
       "      <td>1</td>\n",
       "    </tr>\n",
       "  </tbody>\n",
       "</table>\n",
       "<p>61 rows × 2 columns</p>\n",
       "</div>"
      ],
      "text/plain": [
       "             index  User\n",
       "0          Chude__     7\n",
       "1        FS_Yusuf_     6\n",
       "2       AfamDeluxo     5\n",
       "3       ejykmykel1     5\n",
       "4    Brainzbillion     4\n",
       "..             ...   ...\n",
       "56   Ayodelekevin1     1\n",
       "57  OfficialNNPPng     1\n",
       "58      biggiman90     1\n",
       "59   PO_GrassRoots     1\n",
       "60    senatorchuba     1\n",
       "\n",
       "[61 rows x 2 columns]"
      ]
     },
     "execution_count": 46,
     "metadata": {},
     "output_type": "execute_result"
    }
   ],
   "source": [
    "retweet_more_than_1k['User'].value_counts().reset_index()"
   ]
  },
  {
   "cell_type": "code",
   "execution_count": 47,
   "metadata": {},
   "outputs": [],
   "source": [
    "user = retweet_more_than_1k[['User','RetweetCount']].sort_values(by='RetweetCount',ascending=False).head(15)"
   ]
  },
  {
   "cell_type": "code",
   "execution_count": 48,
   "metadata": {},
   "outputs": [
    {
     "data": {
      "image/png": "[encoded data removed]",
      "text/plain": [
       "<Figure size 720x360 with 1 Axes>"
      ]
     },
     "metadata": {
      "needs_background": "light"
     },
     "output_type": "display_data"
    }
   ],
   "source": [
    "#Bar plot of 10 acount/user with highest number of retweets\n",
    "plt.figure(figsize=(10,5))\n",
    "sns.barplot(x= 'User', y= 'RetweetCount',data = user,ci=None)\n",
    "plt.ylabel(\"Number of Retweets\")\n",
    "plt.xticks(rotation='vertical')\n",
    "plt.show()"
   ]
  },
  {
   "cell_type": "markdown",
   "metadata": {},
   "source": [
    "##### The above bar shows the top ten accounts with the highest number of retweets for individual tweets"
   ]
  },
  {
   "cell_type": "code",
   "execution_count": 49,
   "metadata": {},
   "outputs": [
    {
     "data": {
      "text/plain": [
       "(34, 15)"
      ]
     },
     "execution_count": 49,
     "metadata": {},
     "output_type": "execute_result"
    }
   ],
   "source": [
    "#Analyzing tweets engagements \n",
    "#Analyzing the number of users with more than 200 engagements\n",
    "reply_more_than_200 = data[data['ReplyCount'] >= 200]\n",
    "reply_more_than_200.shape"
   ]
  },
  {
   "cell_type": "markdown",
   "metadata": {},
   "source": [
    "##### 34 tweets has 200 and above engagements"
   ]
  },
  {
   "cell_type": "code",
   "execution_count": 50,
   "metadata": {},
   "outputs": [
    {
     "data": {
      "text/plain": [
       "20"
      ]
     },
     "execution_count": 50,
     "metadata": {},
     "output_type": "execute_result"
    }
   ],
   "source": [
    "reply_more_than_200['User'].nunique()"
   ]
  },
  {
   "cell_type": "markdown",
   "metadata": {},
   "source": [
    "##### 20 unique users/accounts have more than 200 engagements"
   ]
  },
  {
   "cell_type": "code",
   "execution_count": 51,
   "metadata": {},
   "outputs": [
    {
     "data": {
      "text/plain": [
       "array(['akintollgate', 'nnamdi2much', 'Abdulrahaman___', 'Naki_Nephawe',\n",
       "       'iamstevemario', 'HelenDinma', 'hasanaaliyu', 'surboi',\n",
       "       'Official_LPN', 'Chude__', 'NGRLabourParty', 'PeterPsquare',\n",
       "       'Ayodelekevin1', 'RuthEronini', 'mrmyke_1', 'ceebyk', 'biggiman90',\n",
       "       'Oyinkitana', 'OBIdient_youth', 'OgboleMichael52'], dtype=object)"
      ]
     },
     "execution_count": 51,
     "metadata": {},
     "output_type": "execute_result"
    }
   ],
   "source": [
    "reply_more_than_200['User'].unique()"
   ]
  },
  {
   "cell_type": "code",
   "execution_count": 52,
   "metadata": {},
   "outputs": [],
   "source": [
    "reply_user = reply_more_than_200[['User','ReplyCount']].sort_values(by='ReplyCount',ascending=False).head(15)"
   ]
  },
  {
   "cell_type": "code",
   "execution_count": 53,
   "metadata": {},
   "outputs": [
    {
     "data": {
      "image/png": "[encoded data removed]",
      "text/plain": [
       "<Figure size 720x360 with 1 Axes>"
      ]
     },
     "metadata": {
      "needs_background": "light"
     },
     "output_type": "display_data"
    }
   ],
   "source": [
    "#Bar plot of 10 acount/user with highest number of replies/engagements\n",
    "plt.figure(figsize=(10,5))\n",
    "sns.barplot(x= 'User', y= 'ReplyCount',data = reply_user,ci=None)\n",
    "plt.ylabel('Number of Replied Tweets')\n",
    "plt.xticks(rotation='vertical')\n",
    "plt.show()"
   ]
  },
  {
   "cell_type": "markdown",
   "metadata": {},
   "source": [
    "#### The above bar chart shows the users/accounts with the highest number of engagements for individual tweet"
   ]
  },
  {
   "cell_type": "markdown",
   "metadata": {},
   "source": [
    "#### ANALYZING THE USERS/ACCOUNTS WITH THE HIGHEST NUMBERS OF TOTAL LIKES, RETWEETS AND ENGAGEMENTS"
   ]
  },
  {
   "cell_type": "code",
   "execution_count": 54,
   "metadata": {},
   "outputs": [
    {
     "data": {
      "text/html": [
       "<div>\n",
       "<style scoped>\n",
       "    .dataframe tbody tr th:only-of-type {\n",
       "        vertical-align: middle;\n",
       "    }\n",
       "\n",
       "    .dataframe tbody tr th {\n",
       "        vertical-align: top;\n",
       "    }\n",
       "\n",
       "    .dataframe thead th {\n",
       "        text-align: right;\n",
       "    }\n",
       "</style>\n",
       "<table border=\"1\" class=\"dataframe\">\n",
       "  <thead>\n",
       "    <tr style=\"text-align: right;\">\n",
       "      <th></th>\n",
       "      <th>User</th>\n",
       "      <th>TotalLikes</th>\n",
       "      <th>AverageLikes</th>\n",
       "    </tr>\n",
       "  </thead>\n",
       "  <tbody>\n",
       "    <tr>\n",
       "      <th>0</th>\n",
       "      <td>Naki_Nephawe</td>\n",
       "      <td>67663</td>\n",
       "      <td>13532.600000</td>\n",
       "    </tr>\n",
       "    <tr>\n",
       "      <th>1</th>\n",
       "      <td>Brainzbillion</td>\n",
       "      <td>37753</td>\n",
       "      <td>1179.781250</td>\n",
       "    </tr>\n",
       "    <tr>\n",
       "      <th>2</th>\n",
       "      <td>PeterPsquare</td>\n",
       "      <td>37250</td>\n",
       "      <td>18625.000000</td>\n",
       "    </tr>\n",
       "    <tr>\n",
       "      <th>3</th>\n",
       "      <td>FS_Yusuf_</td>\n",
       "      <td>36772</td>\n",
       "      <td>1313.285714</td>\n",
       "    </tr>\n",
       "    <tr>\n",
       "      <th>4</th>\n",
       "      <td>Chude__</td>\n",
       "      <td>36280</td>\n",
       "      <td>2134.117647</td>\n",
       "    </tr>\n",
       "    <tr>\n",
       "      <th>5</th>\n",
       "      <td>mrmyke_1</td>\n",
       "      <td>34587</td>\n",
       "      <td>2470.500000</td>\n",
       "    </tr>\n",
       "    <tr>\n",
       "      <th>6</th>\n",
       "      <td>OBIdient_youth</td>\n",
       "      <td>32660</td>\n",
       "      <td>2512.307692</td>\n",
       "    </tr>\n",
       "    <tr>\n",
       "      <th>7</th>\n",
       "      <td>PO_GrassRoots</td>\n",
       "      <td>28821</td>\n",
       "      <td>169.535294</td>\n",
       "    </tr>\n",
       "    <tr>\n",
       "      <th>8</th>\n",
       "      <td>Shehusky</td>\n",
       "      <td>27733</td>\n",
       "      <td>660.309524</td>\n",
       "    </tr>\n",
       "    <tr>\n",
       "      <th>9</th>\n",
       "      <td>AfamDeluxo</td>\n",
       "      <td>25539</td>\n",
       "      <td>1824.214286</td>\n",
       "    </tr>\n",
       "  </tbody>\n",
       "</table>\n",
       "</div>"
      ],
      "text/plain": [
       "             User  TotalLikes  AverageLikes\n",
       "0    Naki_Nephawe       67663  13532.600000\n",
       "1   Brainzbillion       37753   1179.781250\n",
       "2    PeterPsquare       37250  18625.000000\n",
       "3       FS_Yusuf_       36772   1313.285714\n",
       "4         Chude__       36280   2134.117647\n",
       "5        mrmyke_1       34587   2470.500000\n",
       "6  OBIdient_youth       32660   2512.307692\n",
       "7   PO_GrassRoots       28821    169.535294\n",
       "8        Shehusky       27733    660.309524\n",
       "9      AfamDeluxo       25539   1824.214286"
      ]
     },
     "execution_count": 54,
     "metadata": {},
     "output_type": "execute_result"
    }
   ],
   "source": [
    "like_gp = data.groupby('User').agg(TotalLikes =('LikeCount','sum'),\n",
    "                                   AverageLikes=('LikeCount','mean')).sort_values(by='TotalLikes',ascending=False).reset_index().head(10)\n",
    "like_gp"
   ]
  },
  {
   "cell_type": "code",
   "execution_count": 55,
   "metadata": {},
   "outputs": [
    {
     "data": {
      "image/png": "[encoded data removed]",
      "text/plain": [
       "<Figure size 720x360 with 1 Axes>"
      ]
     },
     "metadata": {
      "needs_background": "light"
     },
     "output_type": "display_data"
    }
   ],
   "source": [
    "ax =plt.rcParams[\"figure.figsize\"] = (10,5)\n",
    "ax = like_gp.plot.bar(rot=0,title='Top ten Total Likes and Average Likes of Users')\n",
    "ax.set_xlabel(\"User\",fontsize=15)\n",
    "ax.set_ylabel('Total/Average Likes',fontsize=15)\n",
    "ax.xaxis.set_major_formatter(plt.FixedFormatter(like_gp['User']))\n",
    "ax.set_xticklabels(like_gp['User'],rotation = 45, fontsize =12)\n",
    "plt.show()\n"
   ]
  },
  {
   "cell_type": "code",
   "execution_count": 56,
   "metadata": {},
   "outputs": [
    {
     "data": {
      "text/html": [
       "<div>\n",
       "<style scoped>\n",
       "    .dataframe tbody tr th:only-of-type {\n",
       "        vertical-align: middle;\n",
       "    }\n",
       "\n",
       "    .dataframe tbody tr th {\n",
       "        vertical-align: top;\n",
       "    }\n",
       "\n",
       "    .dataframe thead th {\n",
       "        text-align: right;\n",
       "    }\n",
       "</style>\n",
       "<table border=\"1\" class=\"dataframe\">\n",
       "  <thead>\n",
       "    <tr style=\"text-align: right;\">\n",
       "      <th></th>\n",
       "      <th>User</th>\n",
       "      <th>TotalRetweets</th>\n",
       "      <th>AverageRetweets</th>\n",
       "    </tr>\n",
       "  </thead>\n",
       "  <tbody>\n",
       "    <tr>\n",
       "      <th>0</th>\n",
       "      <td>Chude__</td>\n",
       "      <td>20988</td>\n",
       "      <td>1234.588235</td>\n",
       "    </tr>\n",
       "    <tr>\n",
       "      <th>1</th>\n",
       "      <td>FS_Yusuf_</td>\n",
       "      <td>14647</td>\n",
       "      <td>523.107143</td>\n",
       "    </tr>\n",
       "    <tr>\n",
       "      <th>2</th>\n",
       "      <td>Brainzbillion</td>\n",
       "      <td>14372</td>\n",
       "      <td>449.125000</td>\n",
       "    </tr>\n",
       "    <tr>\n",
       "      <th>3</th>\n",
       "      <td>AfamDeluxo</td>\n",
       "      <td>13254</td>\n",
       "      <td>946.714286</td>\n",
       "    </tr>\n",
       "    <tr>\n",
       "      <th>4</th>\n",
       "      <td>nnamdi2much</td>\n",
       "      <td>11846</td>\n",
       "      <td>394.866667</td>\n",
       "    </tr>\n",
       "    <tr>\n",
       "      <th>5</th>\n",
       "      <td>PO_GrassRoots</td>\n",
       "      <td>10188</td>\n",
       "      <td>59.929412</td>\n",
       "    </tr>\n",
       "    <tr>\n",
       "      <th>6</th>\n",
       "      <td>Shehusky</td>\n",
       "      <td>9988</td>\n",
       "      <td>237.809524</td>\n",
       "    </tr>\n",
       "    <tr>\n",
       "      <th>7</th>\n",
       "      <td>Naki_Nephawe</td>\n",
       "      <td>9785</td>\n",
       "      <td>1957.000000</td>\n",
       "    </tr>\n",
       "    <tr>\n",
       "      <th>8</th>\n",
       "      <td>PeterPsquare</td>\n",
       "      <td>8772</td>\n",
       "      <td>4386.000000</td>\n",
       "    </tr>\n",
       "    <tr>\n",
       "      <th>9</th>\n",
       "      <td>PeterObiUSA</td>\n",
       "      <td>8732</td>\n",
       "      <td>485.111111</td>\n",
       "    </tr>\n",
       "  </tbody>\n",
       "</table>\n",
       "</div>"
      ],
      "text/plain": [
       "            User  TotalRetweets  AverageRetweets\n",
       "0        Chude__          20988      1234.588235\n",
       "1      FS_Yusuf_          14647       523.107143\n",
       "2  Brainzbillion          14372       449.125000\n",
       "3     AfamDeluxo          13254       946.714286\n",
       "4    nnamdi2much          11846       394.866667\n",
       "5  PO_GrassRoots          10188        59.929412\n",
       "6       Shehusky           9988       237.809524\n",
       "7   Naki_Nephawe           9785      1957.000000\n",
       "8   PeterPsquare           8772      4386.000000\n",
       "9    PeterObiUSA           8732       485.111111"
      ]
     },
     "execution_count": 56,
     "metadata": {},
     "output_type": "execute_result"
    }
   ],
   "source": [
    "rt_gp = data.groupby('User').agg(TotalRetweets =('RetweetCount','sum'),\n",
    "                                   AverageRetweets=('RetweetCount','mean')).sort_values(by='TotalRetweets',ascending=False).reset_index().head(10)\n",
    "rt_gp"
   ]
  },
  {
   "cell_type": "code",
   "execution_count": 57,
   "metadata": {},
   "outputs": [
    {
     "data": {
      "image/png": "[encoded data removed]",
      "text/plain": [
       "<Figure size 720x360 with 1 Axes>"
      ]
     },
     "metadata": {
      "needs_background": "light"
     },
     "output_type": "display_data"
    }
   ],
   "source": [
    "ax =plt.rcParams[\"figure.figsize\"] = (10,5)\n",
    "ax = rt_gp.plot.bar(rot=0,title='Top ten Total Retweet and Average Retweet of Users')\n",
    "ax.set_xlabel(\"User\",fontsize=15)\n",
    "ax.set_ylabel('Total/Average Replies',fontsize=15)\n",
    "ax.xaxis.set_major_formatter(plt.FixedFormatter(like_gp['User']))\n",
    "ax.set_xticklabels(rt_gp['User'],rotation = 45, fontsize =12)\n",
    "plt.show()\n"
   ]
  },
  {
   "cell_type": "code",
   "execution_count": 58,
   "metadata": {},
   "outputs": [
    {
     "data": {
      "text/html": [
       "<div>\n",
       "<style scoped>\n",
       "    .dataframe tbody tr th:only-of-type {\n",
       "        vertical-align: middle;\n",
       "    }\n",
       "\n",
       "    .dataframe tbody tr th {\n",
       "        vertical-align: top;\n",
       "    }\n",
       "\n",
       "    .dataframe thead th {\n",
       "        text-align: right;\n",
       "    }\n",
       "</style>\n",
       "<table border=\"1\" class=\"dataframe\">\n",
       "  <thead>\n",
       "    <tr style=\"text-align: right;\">\n",
       "      <th></th>\n",
       "      <th>User</th>\n",
       "      <th>TotalReplies</th>\n",
       "      <th>AverageReplies</th>\n",
       "    </tr>\n",
       "  </thead>\n",
       "  <tbody>\n",
       "    <tr>\n",
       "      <th>0</th>\n",
       "      <td>PeterPsquare</td>\n",
       "      <td>2051.0</td>\n",
       "      <td>1025.500000</td>\n",
       "    </tr>\n",
       "    <tr>\n",
       "      <th>1</th>\n",
       "      <td>iamstevemario</td>\n",
       "      <td>1535.0</td>\n",
       "      <td>12.280000</td>\n",
       "    </tr>\n",
       "    <tr>\n",
       "      <th>2</th>\n",
       "      <td>Chude__</td>\n",
       "      <td>1407.0</td>\n",
       "      <td>82.764706</td>\n",
       "    </tr>\n",
       "    <tr>\n",
       "      <th>3</th>\n",
       "      <td>surboi</td>\n",
       "      <td>1120.0</td>\n",
       "      <td>280.000000</td>\n",
       "    </tr>\n",
       "    <tr>\n",
       "      <th>4</th>\n",
       "      <td>hasanaaliyu</td>\n",
       "      <td>1107.0</td>\n",
       "      <td>19.421053</td>\n",
       "    </tr>\n",
       "    <tr>\n",
       "      <th>5</th>\n",
       "      <td>Official_LPN</td>\n",
       "      <td>1009.0</td>\n",
       "      <td>77.615385</td>\n",
       "    </tr>\n",
       "    <tr>\n",
       "      <th>6</th>\n",
       "      <td>Naki_Nephawe</td>\n",
       "      <td>1005.0</td>\n",
       "      <td>201.000000</td>\n",
       "    </tr>\n",
       "    <tr>\n",
       "      <th>7</th>\n",
       "      <td>Brainzbillion</td>\n",
       "      <td>910.0</td>\n",
       "      <td>32.500000</td>\n",
       "    </tr>\n",
       "    <tr>\n",
       "      <th>8</th>\n",
       "      <td>mrmyke_1</td>\n",
       "      <td>899.0</td>\n",
       "      <td>64.214286</td>\n",
       "    </tr>\n",
       "    <tr>\n",
       "      <th>9</th>\n",
       "      <td>FS_Yusuf_</td>\n",
       "      <td>893.0</td>\n",
       "      <td>34.346154</td>\n",
       "    </tr>\n",
       "  </tbody>\n",
       "</table>\n",
       "</div>"
      ],
      "text/plain": [
       "            User  TotalReplies  AverageReplies\n",
       "0   PeterPsquare        2051.0     1025.500000\n",
       "1  iamstevemario        1535.0       12.280000\n",
       "2        Chude__        1407.0       82.764706\n",
       "3         surboi        1120.0      280.000000\n",
       "4    hasanaaliyu        1107.0       19.421053\n",
       "5   Official_LPN        1009.0       77.615385\n",
       "6   Naki_Nephawe        1005.0      201.000000\n",
       "7  Brainzbillion         910.0       32.500000\n",
       "8       mrmyke_1         899.0       64.214286\n",
       "9      FS_Yusuf_         893.0       34.346154"
      ]
     },
     "execution_count": 58,
     "metadata": {},
     "output_type": "execute_result"
    }
   ],
   "source": [
    "reply_gp = data.groupby('User').agg(TotalReplies =('ReplyCount','sum'),\n",
    "                                   AverageReplies=('ReplyCount','mean')).sort_values(by='TotalReplies',ascending=False).reset_index().head(10)\n",
    "reply_gp"
   ]
  },
  {
   "cell_type": "code",
   "execution_count": 59,
   "metadata": {},
   "outputs": [
    {
     "data": {
      "image/png": "[encoded data removed]",
      "text/plain": [
       "<Figure size 720x360 with 1 Axes>"
      ]
     },
     "metadata": {
      "needs_background": "light"
     },
     "output_type": "display_data"
    }
   ],
   "source": [
    "ax =plt.rcParams[\"figure.figsize\"] = (10,5)\n",
    "ax = reply_gp.plot.bar(rot=0,title='Top ten Total Replies and Average Replies of Users')\n",
    "ax.set_xlabel(\"User\",fontsize=15)\n",
    "ax.set_ylabel('Total/Average Replies',fontsize=15)\n",
    "ax.xaxis.set_major_formatter(plt.FixedFormatter(like_gp['User']))\n",
    "ax.set_xticklabels(reply_gp['User'],rotation = 45, fontsize =12)\n",
    "plt.show()\n"
   ]
  },
  {
   "cell_type": "code",
   "execution_count": 60,
   "metadata": {},
   "outputs": [
    {
     "data": {
      "text/html": [
       "<div>\n",
       "<style scoped>\n",
       "    .dataframe tbody tr th:only-of-type {\n",
       "        vertical-align: middle;\n",
       "    }\n",
       "\n",
       "    .dataframe tbody tr th {\n",
       "        vertical-align: top;\n",
       "    }\n",
       "\n",
       "    .dataframe thead th {\n",
       "        text-align: right;\n",
       "    }\n",
       "</style>\n",
       "<table border=\"1\" class=\"dataframe\">\n",
       "  <thead>\n",
       "    <tr style=\"text-align: right;\">\n",
       "      <th></th>\n",
       "      <th>index</th>\n",
       "      <th>SourceLabel</th>\n",
       "    </tr>\n",
       "  </thead>\n",
       "  <tbody>\n",
       "    <tr>\n",
       "      <th>0</th>\n",
       "      <td>Twitter for Android</td>\n",
       "      <td>66260</td>\n",
       "    </tr>\n",
       "    <tr>\n",
       "      <th>1</th>\n",
       "      <td>Twitter for iPhone</td>\n",
       "      <td>22769</td>\n",
       "    </tr>\n",
       "    <tr>\n",
       "      <th>2</th>\n",
       "      <td>Twitter Web App</td>\n",
       "      <td>10646</td>\n",
       "    </tr>\n",
       "    <tr>\n",
       "      <th>3</th>\n",
       "      <td>Twitter for iPad</td>\n",
       "      <td>566</td>\n",
       "    </tr>\n",
       "    <tr>\n",
       "      <th>4</th>\n",
       "      <td>TweetDeck</td>\n",
       "      <td>150</td>\n",
       "    </tr>\n",
       "  </tbody>\n",
       "</table>\n",
       "</div>"
      ],
      "text/plain": [
       "                 index  SourceLabel\n",
       "0  Twitter for Android        66260\n",
       "1   Twitter for iPhone        22769\n",
       "2      Twitter Web App        10646\n",
       "3     Twitter for iPad          566\n",
       "4            TweetDeck          150"
      ]
     },
     "execution_count": 60,
     "metadata": {},
     "output_type": "execute_result"
    }
   ],
   "source": [
    "#Analyzing the device used in tweeting\n",
    "device = data['SourceLabel'].value_counts(ascending=False).reset_index().head(5)\n",
    "device"
   ]
  },
  {
   "cell_type": "code",
   "execution_count": 61,
   "metadata": {},
   "outputs": [
    {
     "data": {
      "text/plain": [
       "Twitter for Android    66.0\n",
       "Twitter for iPhone     23.0\n",
       "Twitter Web App        11.0\n",
       "Twitter for iPad        1.0\n",
       "TweetDeck               0.0\n",
       "Name: SourceLabel, dtype: float64"
      ]
     },
     "execution_count": 61,
     "metadata": {},
     "output_type": "execute_result"
    }
   ],
   "source": [
    "round(data.SourceLabel.value_counts(normalize=True)*100).head()"
   ]
  },
  {
   "cell_type": "markdown",
   "metadata": {},
   "source": [
    "##### 66% of the tweets is from Android, 23% from iPhone and 11% from Web App and 1% from iPad"
   ]
  },
  {
   "cell_type": "code",
   "execution_count": 62,
   "metadata": {},
   "outputs": [
    {
     "data": {
      "image/png": "[encoded data removed]",
      "text/plain": [
       "<Figure size 576x360 with 1 Axes>"
      ]
     },
     "metadata": {
      "needs_background": "light"
     },
     "output_type": "display_data"
    }
   ],
   "source": [
    "#Bar plot of devices \n",
    "plt.figure(figsize=(8,5))\n",
    "sns.barplot(x= 'index', y= 'SourceLabel',data = device,ci=None)\n",
    "plt.xticks(rotation='vertical')\n",
    "plt.xlabel('Device/Tweet Source')\n",
    "plt.ylabel('Number of Tweets')\n",
    "plt.show()"
   ]
  },
  {
   "cell_type": "markdown",
   "metadata": {},
   "source": [
    "### TEXT ANALYSIS"
   ]
  },
  {
   "cell_type": "code",
   "execution_count": 63,
   "metadata": {},
   "outputs": [],
   "source": [
    "import neattext.functions as nfx"
   ]
  },
  {
   "cell_type": "code",
   "execution_count": 64,
   "metadata": {},
   "outputs": [
    {
     "data": {
      "text/plain": [
       "['BTC_ADDRESS_REGEX',\n",
       " 'CURRENCY_REGEX',\n",
       " 'CURRENCY_SYMB_REGEX',\n",
       " 'Counter',\n",
       " 'DATE_REGEX',\n",
       " 'EMAIL_REGEX',\n",
       " 'EMOJI_REGEX',\n",
       " 'HASTAG_REGEX',\n",
       " 'MASTERCard_REGEX',\n",
       " 'MD5_SHA_REGEX',\n",
       " 'MOST_COMMON_PUNCT_REGEX',\n",
       " 'NUMBERS_REGEX',\n",
       " 'PHONE_REGEX',\n",
       " 'PoBOX_REGEX',\n",
       " 'SPECIAL_CHARACTERS_REGEX',\n",
       " 'STOPWORDS',\n",
       " 'STOPWORDS_de',\n",
       " 'STOPWORDS_en',\n",
       " 'STOPWORDS_es',\n",
       " 'STOPWORDS_fr',\n",
       " 'STOPWORDS_ru',\n",
       " 'STOPWORDS_yo',\n",
       " 'STREET_ADDRESS_REGEX',\n",
       " 'TextFrame',\n",
       " 'URL_PATTERN',\n",
       " 'USER_HANDLES_REGEX',\n",
       " 'VISACard_REGEX',\n",
       " '__builtins__',\n",
       " '__cached__',\n",
       " '__doc__',\n",
       " '__file__',\n",
       " '__generate_text',\n",
       " '__loader__',\n",
       " '__name__',\n",
       " '__numbers_dict',\n",
       " '__package__',\n",
       " '__spec__',\n",
       " '_lex_richness_herdan',\n",
       " '_lex_richness_maas_ttr',\n",
       " 'clean_text',\n",
       " 'defaultdict',\n",
       " 'digit2words',\n",
       " 'extract_btc_address',\n",
       " 'extract_currencies',\n",
       " 'extract_currency_symbols',\n",
       " 'extract_dates',\n",
       " 'extract_emails',\n",
       " 'extract_emojis',\n",
       " 'extract_hashtags',\n",
       " 'extract_html_tags',\n",
       " 'extract_mastercard_addr',\n",
       " 'extract_md5sha',\n",
       " 'extract_numbers',\n",
       " 'extract_pattern',\n",
       " 'extract_phone_numbers',\n",
       " 'extract_postoffice_box',\n",
       " 'extract_shortwords',\n",
       " 'extract_special_characters',\n",
       " 'extract_stopwords',\n",
       " 'extract_street_address',\n",
       " 'extract_terms_in_bracket',\n",
       " 'extract_urls',\n",
       " 'extract_userhandles',\n",
       " 'extract_visacard_addr',\n",
       " 'fix_contractions',\n",
       " 'generate_sentence',\n",
       " 'hamming_distance',\n",
       " 'inverse_df',\n",
       " 'lexical_richness',\n",
       " 'markov_chain',\n",
       " 'math',\n",
       " 'nlargest',\n",
       " 'normalize',\n",
       " 'num2words',\n",
       " 'random',\n",
       " 're',\n",
       " 'read_txt',\n",
       " 'remove_accents',\n",
       " 'remove_bad_quotes',\n",
       " 'remove_btc_address',\n",
       " 'remove_currencies',\n",
       " 'remove_currency_symbols',\n",
       " 'remove_custom_pattern',\n",
       " 'remove_custom_words',\n",
       " 'remove_dates',\n",
       " 'remove_emails',\n",
       " 'remove_emojis',\n",
       " 'remove_hashtags',\n",
       " 'remove_html_tags',\n",
       " 'remove_mastercard_addr',\n",
       " 'remove_md5sha',\n",
       " 'remove_multiple_spaces',\n",
       " 'remove_non_ascii',\n",
       " 'remove_numbers',\n",
       " 'remove_phone_numbers',\n",
       " 'remove_postoffice_box',\n",
       " 'remove_puncts',\n",
       " 'remove_punctuations',\n",
       " 'remove_shortwords',\n",
       " 'remove_special_characters',\n",
       " 'remove_stopwords',\n",
       " 'remove_street_address',\n",
       " 'remove_terms_in_bracket',\n",
       " 'remove_urls',\n",
       " 'remove_userhandles',\n",
       " 'remove_visacard_addr',\n",
       " 'replace_bad_quotes',\n",
       " 'replace_currencies',\n",
       " 'replace_currency_symbols',\n",
       " 'replace_dates',\n",
       " 'replace_emails',\n",
       " 'replace_emojis',\n",
       " 'replace_numbers',\n",
       " 'replace_phone_numbers',\n",
       " 'replace_special_characters',\n",
       " 'replace_term',\n",
       " 'replace_urls',\n",
       " 'string',\n",
       " 'term_freq',\n",
       " 'to_txt',\n",
       " 'unicodedata',\n",
       " 'word_freq',\n",
       " 'word_length_freq']"
      ]
     },
     "execution_count": 64,
     "metadata": {},
     "output_type": "execute_result"
    }
   ],
   "source": [
    "dir(nfx)"
   ]
  },
  {
   "cell_type": "code",
   "execution_count": 65,
   "metadata": {},
   "outputs": [
    {
     "data": {
      "text/plain": [
       "0        Never doubt that a small group of thoughtful, ...\n",
       "1        Here's Peter obi when he went to South Africa ...\n",
       "2        Peter Obi or Nobody 👍✅\\n\\n#PeterObi4President ...\n",
       "3        Education is not the most important thing in l...\n",
       "4        Vote buying is the new structure now! Come 202...\n",
       "                               ...                        \n",
       "13699    @firstladyship Interesting that many Nigerians...\n",
       "13700    Twitter influenzas hired to assassinate #Peter...\n",
       "13701    @michaelevan101 @99thougths @donsennen @Offici...\n",
       "13702    @Olaideshobo @PeterObi But scaling the @Offici...\n",
       "13703    @OgechukwuRegina @adilyusufjr @Chude__ Soon th...\n",
       "Name: Tweet, Length: 101064, dtype: object"
      ]
     },
     "execution_count": 65,
     "metadata": {},
     "output_type": "execute_result"
    }
   ],
   "source": [
    "data['Tweet']"
   ]
  },
  {
   "cell_type": "markdown",
   "metadata": {},
   "source": [
    "### Noise Reduction"
   ]
  },
  {
   "cell_type": "code",
   "execution_count": 66,
   "metadata": {},
   "outputs": [
    {
     "data": {
      "text/plain": [
       "0        [#PeterObi4President, #PeterObi2023, #LabourPa...\n",
       "1        [#PeterObi4President2023, #PeterObi2023, #NNPP...\n",
       "2        [#PeterObi4President, #PeterObiForPresident202...\n",
       "3        [#thinkyourownthought, #LabourParty4PeterObi, ...\n",
       "4        [#WeNoDeyGiveShishi, #PeterObiForPresident2023...\n",
       "                               ...                        \n",
       "13699                         [#ObiDients!, #2023Election]\n",
       "13700              [#PeterObiForPresident2023, #ObiDIENTS]\n",
       "13701                                         [#OBIdients]\n",
       "13702                         [#ObiDients, #2023Elections]\n",
       "13703                                         [#OBIDIENTS]\n",
       "Name: Tweet, Length: 101064, dtype: object"
      ]
     },
     "execution_count": 66,
     "metadata": {},
     "output_type": "execute_result"
    }
   ],
   "source": [
    "data['Tweet'].apply(nfx.extract_hashtags)"
   ]
  },
  {
   "cell_type": "code",
   "execution_count": 67,
   "metadata": {},
   "outputs": [],
   "source": [
    "data['extracted_hashtags'] = data['Tweet'].apply(nfx.extract_hashtags)"
   ]
  },
  {
   "cell_type": "code",
   "execution_count": 68,
   "metadata": {},
   "outputs": [
    {
     "data": {
      "text/html": [
       "<div>\n",
       "<style scoped>\n",
       "    .dataframe tbody tr th:only-of-type {\n",
       "        vertical-align: middle;\n",
       "    }\n",
       "\n",
       "    .dataframe tbody tr th {\n",
       "        vertical-align: top;\n",
       "    }\n",
       "\n",
       "    .dataframe thead th {\n",
       "        text-align: right;\n",
       "    }\n",
       "</style>\n",
       "<table border=\"1\" class=\"dataframe\">\n",
       "  <thead>\n",
       "    <tr style=\"text-align: right;\">\n",
       "      <th></th>\n",
       "      <th>extracted_hashtags</th>\n",
       "      <th>Hashtags</th>\n",
       "    </tr>\n",
       "  </thead>\n",
       "  <tbody>\n",
       "    <tr>\n",
       "      <th>0</th>\n",
       "      <td>[#PeterObi4President, #PeterObi2023, #LabourPa...</td>\n",
       "      <td>['PeterObi4President', 'PeterObi2023', 'Labour...</td>\n",
       "    </tr>\n",
       "    <tr>\n",
       "      <th>1</th>\n",
       "      <td>[#PeterObi4President2023, #PeterObi2023, #NNPP...</td>\n",
       "      <td>['PeterObi4President2023', 'PeterObi2023', 'NN...</td>\n",
       "    </tr>\n",
       "    <tr>\n",
       "      <th>2</th>\n",
       "      <td>[#PeterObi4President, #PeterObiForPresident202...</td>\n",
       "      <td>['PeterObi4President', 'PeterObiForPresident20...</td>\n",
       "    </tr>\n",
       "    <tr>\n",
       "      <th>3</th>\n",
       "      <td>[#thinkyourownthought, #LabourParty4PeterObi, ...</td>\n",
       "      <td>['thinkyourownthought', 'LabourParty4PeterObi'...</td>\n",
       "    </tr>\n",
       "    <tr>\n",
       "      <th>4</th>\n",
       "      <td>[#WeNoDeyGiveShishi, #PeterObiForPresident2023...</td>\n",
       "      <td>['WeNoDeyGiveShishi', 'PeterObiForPresident202...</td>\n",
       "    </tr>\n",
       "    <tr>\n",
       "      <th>...</th>\n",
       "      <td>...</td>\n",
       "      <td>...</td>\n",
       "    </tr>\n",
       "    <tr>\n",
       "      <th>13699</th>\n",
       "      <td>[#ObiDients!, #2023Election]</td>\n",
       "      <td>['ObiDients', '2023Election']</td>\n",
       "    </tr>\n",
       "    <tr>\n",
       "      <th>13700</th>\n",
       "      <td>[#PeterObiForPresident2023, #ObiDIENTS]</td>\n",
       "      <td>['PeterObiForPresident2023', 'ObiDIENTS']</td>\n",
       "    </tr>\n",
       "    <tr>\n",
       "      <th>13701</th>\n",
       "      <td>[#OBIdients]</td>\n",
       "      <td>['OBIdients']</td>\n",
       "    </tr>\n",
       "    <tr>\n",
       "      <th>13702</th>\n",
       "      <td>[#ObiDients, #2023Elections]</td>\n",
       "      <td>['ObiDients', '2023Elections']</td>\n",
       "    </tr>\n",
       "    <tr>\n",
       "      <th>13703</th>\n",
       "      <td>[#OBIDIENTS]</td>\n",
       "      <td>['OBIDIENTS']</td>\n",
       "    </tr>\n",
       "  </tbody>\n",
       "</table>\n",
       "<p>101064 rows × 2 columns</p>\n",
       "</div>"
      ],
      "text/plain": [
       "                                      extracted_hashtags  \\\n",
       "0      [#PeterObi4President, #PeterObi2023, #LabourPa...   \n",
       "1      [#PeterObi4President2023, #PeterObi2023, #NNPP...   \n",
       "2      [#PeterObi4President, #PeterObiForPresident202...   \n",
       "3      [#thinkyourownthought, #LabourParty4PeterObi, ...   \n",
       "4      [#WeNoDeyGiveShishi, #PeterObiForPresident2023...   \n",
       "...                                                  ...   \n",
       "13699                       [#ObiDients!, #2023Election]   \n",
       "13700            [#PeterObiForPresident2023, #ObiDIENTS]   \n",
       "13701                                       [#OBIdients]   \n",
       "13702                       [#ObiDients, #2023Elections]   \n",
       "13703                                       [#OBIDIENTS]   \n",
       "\n",
       "                                                Hashtags  \n",
       "0      ['PeterObi4President', 'PeterObi2023', 'Labour...  \n",
       "1      ['PeterObi4President2023', 'PeterObi2023', 'NN...  \n",
       "2      ['PeterObi4President', 'PeterObiForPresident20...  \n",
       "3      ['thinkyourownthought', 'LabourParty4PeterObi'...  \n",
       "4      ['WeNoDeyGiveShishi', 'PeterObiForPresident202...  \n",
       "...                                                  ...  \n",
       "13699                      ['ObiDients', '2023Election']  \n",
       "13700          ['PeterObiForPresident2023', 'ObiDIENTS']  \n",
       "13701                                      ['OBIdients']  \n",
       "13702                     ['ObiDients', '2023Elections']  \n",
       "13703                                      ['OBIDIENTS']  \n",
       "\n",
       "[101064 rows x 2 columns]"
      ]
     },
     "execution_count": 68,
     "metadata": {},
     "output_type": "execute_result"
    }
   ],
   "source": [
    "data[['extracted_hashtags','Hashtags']]"
   ]
  },
  {
   "cell_type": "code",
   "execution_count": 69,
   "metadata": {},
   "outputs": [],
   "source": [
    "#cleaning the text by removing hashtags\n",
    "data['clean_tweet']= data['Tweet'].apply(nfx.remove_hashtags)"
   ]
  },
  {
   "cell_type": "code",
   "execution_count": 70,
   "metadata": {},
   "outputs": [
    {
     "data": {
      "text/html": [
       "<div>\n",
       "<style scoped>\n",
       "    .dataframe tbody tr th:only-of-type {\n",
       "        vertical-align: middle;\n",
       "    }\n",
       "\n",
       "    .dataframe tbody tr th {\n",
       "        vertical-align: top;\n",
       "    }\n",
       "\n",
       "    .dataframe thead th {\n",
       "        text-align: right;\n",
       "    }\n",
       "</style>\n",
       "<table border=\"1\" class=\"dataframe\">\n",
       "  <thead>\n",
       "    <tr style=\"text-align: right;\">\n",
       "      <th></th>\n",
       "      <th>clean_tweet</th>\n",
       "      <th>Tweet</th>\n",
       "    </tr>\n",
       "  </thead>\n",
       "  <tbody>\n",
       "    <tr>\n",
       "      <th>0</th>\n",
       "      <td>Never doubt that a small group of thoughtful, ...</td>\n",
       "      <td>Never doubt that a small group of thoughtful, ...</td>\n",
       "    </tr>\n",
       "    <tr>\n",
       "      <th>1</th>\n",
       "      <td>Here's Peter obi when he went to South Africa ...</td>\n",
       "      <td>Here's Peter obi when he went to South Africa ...</td>\n",
       "    </tr>\n",
       "    <tr>\n",
       "      <th>2</th>\n",
       "      <td>Peter Obi or Nobody 👍✅\\n\\n              https:...</td>\n",
       "      <td>Peter Obi or Nobody 👍✅\\n\\n#PeterObi4President ...</td>\n",
       "    </tr>\n",
       "    <tr>\n",
       "      <th>3</th>\n",
       "      <td>Education is not the most important thing in l...</td>\n",
       "      <td>Education is not the most important thing in l...</td>\n",
       "    </tr>\n",
       "    <tr>\n",
       "      <th>4</th>\n",
       "      <td>Vote buying is the new structure now! Come 202...</td>\n",
       "      <td>Vote buying is the new structure now! Come 202...</td>\n",
       "    </tr>\n",
       "    <tr>\n",
       "      <th>...</th>\n",
       "      <td>...</td>\n",
       "      <td>...</td>\n",
       "    </tr>\n",
       "    <tr>\n",
       "      <th>13699</th>\n",
       "      <td>@firstladyship Interesting that many Nigerians...</td>\n",
       "      <td>@firstladyship Interesting that many Nigerians...</td>\n",
       "    </tr>\n",
       "    <tr>\n",
       "      <th>13700</th>\n",
       "      <td>Twitter influenzas hired to assassinate   popu...</td>\n",
       "      <td>Twitter influenzas hired to assassinate #Peter...</td>\n",
       "    </tr>\n",
       "    <tr>\n",
       "      <th>13701</th>\n",
       "      <td>@michaelevan101 @99thougths @donsennen @Offici...</td>\n",
       "      <td>@michaelevan101 @99thougths @donsennen @Offici...</td>\n",
       "    </tr>\n",
       "    <tr>\n",
       "      <th>13702</th>\n",
       "      <td>@Olaideshobo @PeterObi But scaling the @Offici...</td>\n",
       "      <td>@Olaideshobo @PeterObi But scaling the @Offici...</td>\n",
       "    </tr>\n",
       "    <tr>\n",
       "      <th>13703</th>\n",
       "      <td>@OgechukwuRegina @adilyusufjr @Chude__ Soon th...</td>\n",
       "      <td>@OgechukwuRegina @adilyusufjr @Chude__ Soon th...</td>\n",
       "    </tr>\n",
       "  </tbody>\n",
       "</table>\n",
       "<p>101064 rows × 2 columns</p>\n",
       "</div>"
      ],
      "text/plain": [
       "                                             clean_tweet  \\\n",
       "0      Never doubt that a small group of thoughtful, ...   \n",
       "1      Here's Peter obi when he went to South Africa ...   \n",
       "2      Peter Obi or Nobody 👍✅\\n\\n              https:...   \n",
       "3      Education is not the most important thing in l...   \n",
       "4      Vote buying is the new structure now! Come 202...   \n",
       "...                                                  ...   \n",
       "13699  @firstladyship Interesting that many Nigerians...   \n",
       "13700  Twitter influenzas hired to assassinate   popu...   \n",
       "13701  @michaelevan101 @99thougths @donsennen @Offici...   \n",
       "13702  @Olaideshobo @PeterObi But scaling the @Offici...   \n",
       "13703  @OgechukwuRegina @adilyusufjr @Chude__ Soon th...   \n",
       "\n",
       "                                                   Tweet  \n",
       "0      Never doubt that a small group of thoughtful, ...  \n",
       "1      Here's Peter obi when he went to South Africa ...  \n",
       "2      Peter Obi or Nobody 👍✅\\n\\n#PeterObi4President ...  \n",
       "3      Education is not the most important thing in l...  \n",
       "4      Vote buying is the new structure now! Come 202...  \n",
       "...                                                  ...  \n",
       "13699  @firstladyship Interesting that many Nigerians...  \n",
       "13700  Twitter influenzas hired to assassinate #Peter...  \n",
       "13701  @michaelevan101 @99thougths @donsennen @Offici...  \n",
       "13702  @Olaideshobo @PeterObi But scaling the @Offici...  \n",
       "13703  @OgechukwuRegina @adilyusufjr @Chude__ Soon th...  \n",
       "\n",
       "[101064 rows x 2 columns]"
      ]
     },
     "execution_count": 70,
     "metadata": {},
     "output_type": "execute_result"
    }
   ],
   "source": [
    "data[['clean_tweet','Tweet']]"
   ]
  },
  {
   "cell_type": "code",
   "execution_count": 71,
   "metadata": {},
   "outputs": [],
   "source": [
    "#removing user url\n",
    "data['clean_tweet'] = data['clean_tweet'].apply(nfx.remove_urls)"
   ]
  },
  {
   "cell_type": "code",
   "execution_count": 72,
   "metadata": {},
   "outputs": [],
   "source": [
    "#removing emojis\n",
    "data['clean_tweet'] = data['clean_tweet'].apply(nfx.remove_emojis)"
   ]
  },
  {
   "cell_type": "code",
   "execution_count": 73,
   "metadata": {},
   "outputs": [],
   "source": [
    "#removing multiple spaces\n",
    "data['clean_tweet'] = data['clean_tweet'].apply(nfx.remove_multiple_spaces)"
   ]
  },
  {
   "cell_type": "code",
   "execution_count": 74,
   "metadata": {},
   "outputs": [],
   "source": [
    "#Removing punctuation\n",
    "data['clean_tweet'] = data['clean_tweet'].apply(nfx.remove_puncts)"
   ]
  },
  {
   "cell_type": "code",
   "execution_count": 75,
   "metadata": {},
   "outputs": [
    {
     "data": {
      "text/html": [
       "<div>\n",
       "<style scoped>\n",
       "    .dataframe tbody tr th:only-of-type {\n",
       "        vertical-align: middle;\n",
       "    }\n",
       "\n",
       "    .dataframe tbody tr th {\n",
       "        vertical-align: top;\n",
       "    }\n",
       "\n",
       "    .dataframe thead th {\n",
       "        text-align: right;\n",
       "    }\n",
       "</style>\n",
       "<table border=\"1\" class=\"dataframe\">\n",
       "  <thead>\n",
       "    <tr style=\"text-align: right;\">\n",
       "      <th></th>\n",
       "      <th>clean_tweet</th>\n",
       "      <th>Tweet</th>\n",
       "    </tr>\n",
       "  </thead>\n",
       "  <tbody>\n",
       "    <tr>\n",
       "      <th>0</th>\n",
       "      <td>Never doubt that a small group of thoughtful c...</td>\n",
       "      <td>Never doubt that a small group of thoughtful, ...</td>\n",
       "    </tr>\n",
       "    <tr>\n",
       "      <th>1</th>\n",
       "      <td>Heres Peter obi when he went to South Africa t...</td>\n",
       "      <td>Here's Peter obi when he went to South Africa ...</td>\n",
       "    </tr>\n",
       "    <tr>\n",
       "      <th>2</th>\n",
       "      <td>Peter Obi or Nobody</td>\n",
       "      <td>Peter Obi or Nobody 👍✅\\n\\n#PeterObi4President ...</td>\n",
       "    </tr>\n",
       "    <tr>\n",
       "      <th>3</th>\n",
       "      <td>Education is not the most important thing in l...</td>\n",
       "      <td>Education is not the most important thing in l...</td>\n",
       "    </tr>\n",
       "    <tr>\n",
       "      <th>4</th>\n",
       "      <td>Vote buying is the new structure now Come 2023...</td>\n",
       "      <td>Vote buying is the new structure now! Come 202...</td>\n",
       "    </tr>\n",
       "    <tr>\n",
       "      <th>...</th>\n",
       "      <td>...</td>\n",
       "      <td>...</td>\n",
       "    </tr>\n",
       "    <tr>\n",
       "      <th>13699</th>\n",
       "      <td>@firstladyship Interesting that many Nigerians...</td>\n",
       "      <td>@firstladyship Interesting that many Nigerians...</td>\n",
       "    </tr>\n",
       "    <tr>\n",
       "      <th>13700</th>\n",
       "      <td>Twitter influenzas hired to assassinate popula...</td>\n",
       "      <td>Twitter influenzas hired to assassinate #Peter...</td>\n",
       "    </tr>\n",
       "    <tr>\n",
       "      <th>13701</th>\n",
       "      <td>@michaelevan101 @99thougths @donsennen @Offici...</td>\n",
       "      <td>@michaelevan101 @99thougths @donsennen @Offici...</td>\n",
       "    </tr>\n",
       "    <tr>\n",
       "      <th>13702</th>\n",
       "      <td>@Olaideshobo @PeterObi But scaling the @Offici...</td>\n",
       "      <td>@Olaideshobo @PeterObi But scaling the @Offici...</td>\n",
       "    </tr>\n",
       "    <tr>\n",
       "      <th>13703</th>\n",
       "      <td>@OgechukwuRegina @adilyusufjr @Chude Soon they...</td>\n",
       "      <td>@OgechukwuRegina @adilyusufjr @Chude__ Soon th...</td>\n",
       "    </tr>\n",
       "  </tbody>\n",
       "</table>\n",
       "<p>101064 rows × 2 columns</p>\n",
       "</div>"
      ],
      "text/plain": [
       "                                             clean_tweet  \\\n",
       "0      Never doubt that a small group of thoughtful c...   \n",
       "1      Heres Peter obi when he went to South Africa t...   \n",
       "2                                   Peter Obi or Nobody    \n",
       "3      Education is not the most important thing in l...   \n",
       "4      Vote buying is the new structure now Come 2023...   \n",
       "...                                                  ...   \n",
       "13699  @firstladyship Interesting that many Nigerians...   \n",
       "13700  Twitter influenzas hired to assassinate popula...   \n",
       "13701  @michaelevan101 @99thougths @donsennen @Offici...   \n",
       "13702  @Olaideshobo @PeterObi But scaling the @Offici...   \n",
       "13703  @OgechukwuRegina @adilyusufjr @Chude Soon they...   \n",
       "\n",
       "                                                   Tweet  \n",
       "0      Never doubt that a small group of thoughtful, ...  \n",
       "1      Here's Peter obi when he went to South Africa ...  \n",
       "2      Peter Obi or Nobody 👍✅\\n\\n#PeterObi4President ...  \n",
       "3      Education is not the most important thing in l...  \n",
       "4      Vote buying is the new structure now! Come 202...  \n",
       "...                                                  ...  \n",
       "13699  @firstladyship Interesting that many Nigerians...  \n",
       "13700  Twitter influenzas hired to assassinate #Peter...  \n",
       "13701  @michaelevan101 @99thougths @donsennen @Offici...  \n",
       "13702  @Olaideshobo @PeterObi But scaling the @Offici...  \n",
       "13703  @OgechukwuRegina @adilyusufjr @Chude__ Soon th...  \n",
       "\n",
       "[101064 rows x 2 columns]"
      ]
     },
     "execution_count": 75,
     "metadata": {},
     "output_type": "execute_result"
    }
   ],
   "source": [
    "data[['clean_tweet','Tweet']]"
   ]
  },
  {
   "cell_type": "code",
   "execution_count": 76,
   "metadata": {},
   "outputs": [],
   "source": [
    "from textblob import TextBlob"
   ]
  },
  {
   "cell_type": "code",
   "execution_count": 77,
   "metadata": {},
   "outputs": [],
   "source": [
    "def get_sentiment(Tweet):\n",
    "    blob = TextBlob(Tweet)\n",
    "    sentiment_polarity = blob.sentiment.polarity\n",
    "    sentiment_sub = blob.sentiment.subjectivity\n",
    "    if sentiment_polarity > 0:\n",
    "        sentiment_label = 'Positive'\n",
    "    elif sentiment_polarity < 0:\n",
    "        sentiment_label = 'Negative'\n",
    "    else:\n",
    "        sentiment_label = 'Neutral'\n",
    "    result = {'polarity':sentiment_polarity,\n",
    "             'subjectivity':sentiment_sub,\n",
    "             'sentiment': sentiment_label}\n",
    "    return result"
   ]
  },
  {
   "cell_type": "code",
   "execution_count": 78,
   "metadata": {},
   "outputs": [],
   "source": [
    "ext1 = data['clean_tweet'].iloc[0]"
   ]
  },
  {
   "cell_type": "code",
   "execution_count": 79,
   "metadata": {},
   "outputs": [
    {
     "data": {
      "text/plain": [
       "{'polarity': 0.037500000000000006,\n",
       " 'subjectivity': 0.475,\n",
       " 'sentiment': 'Positive'}"
      ]
     },
     "execution_count": 79,
     "metadata": {},
     "output_type": "execute_result"
    }
   ],
   "source": [
    "get_sentiment(ext1)"
   ]
  },
  {
   "cell_type": "code",
   "execution_count": 80,
   "metadata": {},
   "outputs": [],
   "source": [
    "data['sentiment_results'] = data['clean_tweet'].apply(get_sentiment)"
   ]
  },
  {
   "cell_type": "code",
   "execution_count": 81,
   "metadata": {},
   "outputs": [
    {
     "data": {
      "text/plain": [
       "0        {'polarity': 0.037500000000000006, 'subjectivi...\n",
       "1        {'polarity': 0.0, 'subjectivity': 0.0, 'sentim...\n",
       "2        {'polarity': 0.0, 'subjectivity': 0.0, 'sentim...\n",
       "3        {'polarity': 0.34571428571428575, 'subjectivit...\n",
       "4        {'polarity': 0.3181818181818182, 'subjectivity...\n",
       "                               ...                        \n",
       "13699    {'polarity': 0.39999999999999997, 'subjectivit...\n",
       "13700    {'polarity': 0.19999999999999998, 'subjectivit...\n",
       "13701    {'polarity': 0.06818181818181818, 'subjectivit...\n",
       "13702    {'polarity': 0.21333333333333337, 'subjectivit...\n",
       "13703    {'polarity': 0.05000000000000002, 'subjectivit...\n",
       "Name: sentiment_results, Length: 101064, dtype: object"
      ]
     },
     "execution_count": 81,
     "metadata": {},
     "output_type": "execute_result"
    }
   ],
   "source": [
    "data['sentiment_results']"
   ]
  },
  {
   "cell_type": "code",
   "execution_count": 82,
   "metadata": {},
   "outputs": [
    {
     "data": {
      "text/plain": [
       "{'polarity': 0.0, 'subjectivity': 0.0, 'sentiment': 'Neutral'}"
      ]
     },
     "execution_count": 82,
     "metadata": {},
     "output_type": "execute_result"
    }
   ],
   "source": [
    "data['sentiment_results'].iloc[1]"
   ]
  },
  {
   "cell_type": "code",
   "execution_count": 83,
   "metadata": {},
   "outputs": [
    {
     "data": {
      "text/html": [
       "<div>\n",
       "<style scoped>\n",
       "    .dataframe tbody tr th:only-of-type {\n",
       "        vertical-align: middle;\n",
       "    }\n",
       "\n",
       "    .dataframe tbody tr th {\n",
       "        vertical-align: top;\n",
       "    }\n",
       "\n",
       "    .dataframe thead th {\n",
       "        text-align: right;\n",
       "    }\n",
       "</style>\n",
       "<table border=\"1\" class=\"dataframe\">\n",
       "  <thead>\n",
       "    <tr style=\"text-align: right;\">\n",
       "      <th></th>\n",
       "      <th>polarity</th>\n",
       "      <th>subjectivity</th>\n",
       "      <th>sentiment</th>\n",
       "    </tr>\n",
       "  </thead>\n",
       "  <tbody>\n",
       "    <tr>\n",
       "      <th>0</th>\n",
       "      <td>0.0</td>\n",
       "      <td>0.0</td>\n",
       "      <td>Neutral</td>\n",
       "    </tr>\n",
       "  </tbody>\n",
       "</table>\n",
       "</div>"
      ],
      "text/plain": [
       "   polarity  subjectivity sentiment\n",
       "0       0.0           0.0   Neutral"
      ]
     },
     "execution_count": 83,
     "metadata": {},
     "output_type": "execute_result"
    }
   ],
   "source": [
    "pd.json_normalize(data['sentiment_results'].iloc[2])"
   ]
  },
  {
   "cell_type": "code",
   "execution_count": 84,
   "metadata": {},
   "outputs": [],
   "source": [
    "df = data.join(pd.json_normalize(data['sentiment_results']))"
   ]
  },
  {
   "cell_type": "code",
   "execution_count": 85,
   "metadata": {},
   "outputs": [
    {
     "data": {
      "text/html": [
       "<div>\n",
       "<style scoped>\n",
       "    .dataframe tbody tr th:only-of-type {\n",
       "        vertical-align: middle;\n",
       "    }\n",
       "\n",
       "    .dataframe tbody tr th {\n",
       "        vertical-align: top;\n",
       "    }\n",
       "\n",
       "    .dataframe thead th {\n",
       "        text-align: right;\n",
       "    }\n",
       "</style>\n",
       "<table border=\"1\" class=\"dataframe\">\n",
       "  <thead>\n",
       "    <tr style=\"text-align: right;\">\n",
       "      <th></th>\n",
       "      <th>Date</th>\n",
       "      <th>User</th>\n",
       "      <th>Tweet</th>\n",
       "      <th>Hashtags</th>\n",
       "      <th>SourceLabel</th>\n",
       "      <th>LikeCount</th>\n",
       "      <th>RetweetCount</th>\n",
       "      <th>id</th>\n",
       "      <th>RetweetCount.1</th>\n",
       "      <th>MentionedUser</th>\n",
       "      <th>...</th>\n",
       "      <th>Language</th>\n",
       "      <th>Time</th>\n",
       "      <th>month</th>\n",
       "      <th>month_name</th>\n",
       "      <th>extracted_hashtags</th>\n",
       "      <th>clean_tweet</th>\n",
       "      <th>sentiment_results</th>\n",
       "      <th>polarity</th>\n",
       "      <th>subjectivity</th>\n",
       "      <th>sentiment</th>\n",
       "    </tr>\n",
       "  </thead>\n",
       "  <tbody>\n",
       "    <tr>\n",
       "      <th>0</th>\n",
       "      <td>2022-06-18</td>\n",
       "      <td>Sir_Obidike</td>\n",
       "      <td>Never doubt that a small group of thoughtful, ...</td>\n",
       "      <td>['PeterObi4President', 'PeterObi2023', 'Labour...</td>\n",
       "      <td>Twitter for Android</td>\n",
       "      <td>2</td>\n",
       "      <td>1</td>\n",
       "      <td>1.538218e+18</td>\n",
       "      <td>1.0</td>\n",
       "      <td>NaN</td>\n",
       "      <td>...</td>\n",
       "      <td>en</td>\n",
       "      <td>17:51:56</td>\n",
       "      <td>6</td>\n",
       "      <td>June</td>\n",
       "      <td>[#PeterObi4President, #PeterObi2023, #LabourPa...</td>\n",
       "      <td>Never doubt that a small group of thoughtful c...</td>\n",
       "      <td>{'polarity': 0.037500000000000006, 'subjectivi...</td>\n",
       "      <td>0.0375</td>\n",
       "      <td>0.475</td>\n",
       "      <td>Positive</td>\n",
       "    </tr>\n",
       "    <tr>\n",
       "      <th>0</th>\n",
       "      <td>2022-06-18</td>\n",
       "      <td>boutique_ocean</td>\n",
       "      <td>this thing still they suprise me the love the ...</td>\n",
       "      <td>['PeterObi4President', 'PeterObiForPresident20...</td>\n",
       "      <td>Twitter for Android</td>\n",
       "      <td>0</td>\n",
       "      <td>0</td>\n",
       "      <td>NaN</td>\n",
       "      <td>NaN</td>\n",
       "      <td>NaN</td>\n",
       "      <td>...</td>\n",
       "      <td>NaN</td>\n",
       "      <td>18:02:02</td>\n",
       "      <td>6</td>\n",
       "      <td>June</td>\n",
       "      <td>[#PeterObi4President, #PeterObiForPresident202...</td>\n",
       "      <td>this thing still they suprise me the love the ...</td>\n",
       "      <td>{'polarity': 0.5, 'subjectivity': 0.6, 'sentim...</td>\n",
       "      <td>0.0375</td>\n",
       "      <td>0.475</td>\n",
       "      <td>Positive</td>\n",
       "    </tr>\n",
       "    <tr>\n",
       "      <th>0</th>\n",
       "      <td>2022-06-18</td>\n",
       "      <td>Del03900731</td>\n",
       "      <td>#HISTORY\\n#PeterObiForPresident2023 \\n#PeterOb...</td>\n",
       "      <td>['HISTORY', 'PeterObiForPresident2023', 'Peter...</td>\n",
       "      <td>Twitter for Android</td>\n",
       "      <td>0</td>\n",
       "      <td>0</td>\n",
       "      <td>1.538221e+18</td>\n",
       "      <td>0.0</td>\n",
       "      <td>NaN</td>\n",
       "      <td>...</td>\n",
       "      <td>qme</td>\n",
       "      <td>18:03:43</td>\n",
       "      <td>6</td>\n",
       "      <td>June</td>\n",
       "      <td>[#HISTORY, #PeterObiForPresident2023, #PeterObi]</td>\n",
       "      <td></td>\n",
       "      <td>{'polarity': 0.0, 'subjectivity': 0.0, 'sentim...</td>\n",
       "      <td>0.0375</td>\n",
       "      <td>0.475</td>\n",
       "      <td>Positive</td>\n",
       "    </tr>\n",
       "    <tr>\n",
       "      <th>0</th>\n",
       "      <td>2022-06-18</td>\n",
       "      <td>LivingstoneB5</td>\n",
       "      <td>FATHER MBAKA AND PETER OBI \\n#PeterObiForPresi...</td>\n",
       "      <td>['PeterObiForPresident2023', 'PeterObi4Preside...</td>\n",
       "      <td>Twitter for Android</td>\n",
       "      <td>1</td>\n",
       "      <td>0</td>\n",
       "      <td>1.538220e+18</td>\n",
       "      <td>0.0</td>\n",
       "      <td>NaN</td>\n",
       "      <td>...</td>\n",
       "      <td>in</td>\n",
       "      <td>18:00:28</td>\n",
       "      <td>6</td>\n",
       "      <td>June</td>\n",
       "      <td>[#PeterObiForPresident2023, #PeterObi4President]</td>\n",
       "      <td>FATHER MBAKA AND PETER OBI</td>\n",
       "      <td>{'polarity': 0.0, 'subjectivity': 0.0, 'sentim...</td>\n",
       "      <td>0.0375</td>\n",
       "      <td>0.475</td>\n",
       "      <td>Positive</td>\n",
       "    </tr>\n",
       "    <tr>\n",
       "      <th>0</th>\n",
       "      <td>2022-06-18</td>\n",
       "      <td>Del03900731</td>\n",
       "      <td>#HISTORY\\n#PeterObiForPresident2023 \\n#PeterOb...</td>\n",
       "      <td>['HISTORY', 'PeterObiForPresident2023', 'Peter...</td>\n",
       "      <td>Twitter for Android</td>\n",
       "      <td>0</td>\n",
       "      <td>0</td>\n",
       "      <td>1.538221e+18</td>\n",
       "      <td>0.0</td>\n",
       "      <td>NaN</td>\n",
       "      <td>...</td>\n",
       "      <td>qme</td>\n",
       "      <td>18:03:43</td>\n",
       "      <td>6</td>\n",
       "      <td>June</td>\n",
       "      <td>[#HISTORY, #PeterObiForPresident2023, #PeterObi]</td>\n",
       "      <td></td>\n",
       "      <td>{'polarity': 0.0, 'subjectivity': 0.0, 'sentim...</td>\n",
       "      <td>0.0375</td>\n",
       "      <td>0.475</td>\n",
       "      <td>Positive</td>\n",
       "    </tr>\n",
       "  </tbody>\n",
       "</table>\n",
       "<p>5 rows × 21 columns</p>\n",
       "</div>"
      ],
      "text/plain": [
       "        Date            User  \\\n",
       "0 2022-06-18     Sir_Obidike   \n",
       "0 2022-06-18  boutique_ocean   \n",
       "0 2022-06-18     Del03900731   \n",
       "0 2022-06-18   LivingstoneB5   \n",
       "0 2022-06-18     Del03900731   \n",
       "\n",
       "                                               Tweet  \\\n",
       "0  Never doubt that a small group of thoughtful, ...   \n",
       "0  this thing still they suprise me the love the ...   \n",
       "0  #HISTORY\\n#PeterObiForPresident2023 \\n#PeterOb...   \n",
       "0  FATHER MBAKA AND PETER OBI \\n#PeterObiForPresi...   \n",
       "0  #HISTORY\\n#PeterObiForPresident2023 \\n#PeterOb...   \n",
       "\n",
       "                                            Hashtags          SourceLabel  \\\n",
       "0  ['PeterObi4President', 'PeterObi2023', 'Labour...  Twitter for Android   \n",
       "0  ['PeterObi4President', 'PeterObiForPresident20...  Twitter for Android   \n",
       "0  ['HISTORY', 'PeterObiForPresident2023', 'Peter...  Twitter for Android   \n",
       "0  ['PeterObiForPresident2023', 'PeterObi4Preside...  Twitter for Android   \n",
       "0  ['HISTORY', 'PeterObiForPresident2023', 'Peter...  Twitter for Android   \n",
       "\n",
       "   LikeCount  RetweetCount            id  RetweetCount.1 MentionedUser  ...  \\\n",
       "0          2             1  1.538218e+18             1.0           NaN  ...   \n",
       "0          0             0           NaN             NaN           NaN  ...   \n",
       "0          0             0  1.538221e+18             0.0           NaN  ...   \n",
       "0          1             0  1.538220e+18             0.0           NaN  ...   \n",
       "0          0             0  1.538221e+18             0.0           NaN  ...   \n",
       "\n",
       "   Language      Time month  month_name  \\\n",
       "0        en  17:51:56     6        June   \n",
       "0       NaN  18:02:02     6        June   \n",
       "0       qme  18:03:43     6        June   \n",
       "0        in  18:00:28     6        June   \n",
       "0       qme  18:03:43     6        June   \n",
       "\n",
       "                                  extracted_hashtags  \\\n",
       "0  [#PeterObi4President, #PeterObi2023, #LabourPa...   \n",
       "0  [#PeterObi4President, #PeterObiForPresident202...   \n",
       "0   [#HISTORY, #PeterObiForPresident2023, #PeterObi]   \n",
       "0   [#PeterObiForPresident2023, #PeterObi4President]   \n",
       "0   [#HISTORY, #PeterObiForPresident2023, #PeterObi]   \n",
       "\n",
       "                                         clean_tweet  \\\n",
       "0  Never doubt that a small group of thoughtful c...   \n",
       "0  this thing still they suprise me the love the ...   \n",
       "0                                                      \n",
       "0                        FATHER MBAKA AND PETER OBI    \n",
       "0                                                      \n",
       "\n",
       "                                   sentiment_results polarity  subjectivity  \\\n",
       "0  {'polarity': 0.037500000000000006, 'subjectivi...   0.0375         0.475   \n",
       "0  {'polarity': 0.5, 'subjectivity': 0.6, 'sentim...   0.0375         0.475   \n",
       "0  {'polarity': 0.0, 'subjectivity': 0.0, 'sentim...   0.0375         0.475   \n",
       "0  {'polarity': 0.0, 'subjectivity': 0.0, 'sentim...   0.0375         0.475   \n",
       "0  {'polarity': 0.0, 'subjectivity': 0.0, 'sentim...   0.0375         0.475   \n",
       "\n",
       "   sentiment  \n",
       "0   Positive  \n",
       "0   Positive  \n",
       "0   Positive  \n",
       "0   Positive  \n",
       "0   Positive  \n",
       "\n",
       "[5 rows x 21 columns]"
      ]
     },
     "execution_count": 85,
     "metadata": {},
     "output_type": "execute_result"
    }
   ],
   "source": [
    "df.head()"
   ]
  },
  {
   "cell_type": "code",
   "execution_count": 86,
   "metadata": {},
   "outputs": [
    {
     "data": {
      "text/plain": [
       "Neutral     48259\n",
       "Positive    39269\n",
       "Negative    13536\n",
       "Name: sentiment, dtype: int64"
      ]
     },
     "execution_count": 86,
     "metadata": {},
     "output_type": "execute_result"
    }
   ],
   "source": [
    "df['sentiment'].value_counts()"
   ]
  },
  {
   "cell_type": "code",
   "execution_count": 87,
   "metadata": {},
   "outputs": [
    {
     "data": {
      "image/png": "[encoded data removed]",
      "text/plain": [
       "<Figure size 720x360 with 1 Axes>"
      ]
     },
     "metadata": {
      "needs_background": "light"
     },
     "output_type": "display_data"
    }
   ],
   "source": [
    "df['sentiment'].value_counts().plot(kind='bar')\n",
    "plt.show()"
   ]
  },
  {
   "cell_type": "code",
   "execution_count": 88,
   "metadata": {},
   "outputs": [],
   "source": [
    "positive_tweet = df[df['sentiment'] == 'Positive']['clean_tweet']\n",
    "Neutral_tweet = df[df['sentiment'] == 'Neutral']['clean_tweet']\n",
    "Negative_tweet = df[df['sentiment'] == 'Negative']['clean_tweet']"
   ]
  },
  {
   "cell_type": "code",
   "execution_count": 89,
   "metadata": {},
   "outputs": [
    {
     "data": {
      "text/plain": [
       "0    Never doubt that a small group of thoughtful c...\n",
       "0    this thing still they suprise me the love the ...\n",
       "0                                                     \n",
       "0                          FATHER MBAKA AND PETER OBI \n",
       "0                                                     \n",
       "0                              \\nKwankwaso\\nPeter Obi \n",
       "3    Education is not the most important thing in l...\n",
       "3                   Family and Food Basket amp for All\n",
       "3    @Naughtiawol To those illusion uninformed Nige...\n",
       "3    People of Ekiti after the scenes from today co...\n",
       "Name: clean_tweet, dtype: object"
      ]
     },
     "execution_count": 89,
     "metadata": {},
     "output_type": "execute_result"
    }
   ],
   "source": [
    "positive_tweet.head(10)"
   ]
  },
  {
   "cell_type": "code",
   "execution_count": 90,
   "metadata": {},
   "outputs": [
    {
     "data": {
      "text/plain": [
       "1    Heres Peter obi when he went to South Africa t...\n",
       "1                  Identify with Peter Obi Supporters \n",
       "1    @ShehuSani To those illusion uninformed Nigeri...\n",
       "1    This is what tinubu do every election time to ...\n",
       "1    @ShehuSani To those illusion uninformed Nigeri...\n",
       "1                   This sounds like Music to my ears \n",
       "2                                 Peter Obi or Nobody \n",
       "2    @IEkweremadu @iamekweremadu Are you sure you a...\n",
       "2    @emmy4engineeri4 @firstladyship @Chude @Jackng...\n",
       "2    When you talk about organic growth organic lov...\n",
       "Name: clean_tweet, dtype: object"
      ]
     },
     "execution_count": 90,
     "metadata": {},
     "output_type": "execute_result"
    }
   ],
   "source": [
    "Neutral_tweet.head(10)"
   ]
  },
  {
   "cell_type": "code",
   "execution_count": 91,
   "metadata": {},
   "outputs": [
    {
     "data": {
      "text/plain": [
       "5     @Kennyhopson I was talking to my sister a week...\n",
       "5     Uncle @renoomokri will never post something li...\n",
       "5      Ameerah\\nBlack Sherrif Kwankwaso\\nWike\\nSeyi ...\n",
       "5                                           @IkukuomaC \n",
       "5      Ameerah\\nBlack Sherrif Kwankwaso\\nWike\\nSeyi ...\n",
       "5     As we approach the general election this vote ...\n",
       "10    Dear Obidients We have a task before our handH...\n",
       "10    Nice man nothing wrong with that Tweet huh He ...\n",
       "10                        Between two evilschoose none \n",
       "10    @DangbanaManager Thanks so much my boss More b...\n",
       "Name: clean_tweet, dtype: object"
      ]
     },
     "execution_count": 91,
     "metadata": {},
     "output_type": "execute_result"
    }
   ],
   "source": [
    "Negative_tweet.head(10)"
   ]
  },
  {
   "cell_type": "code",
   "execution_count": 92,
   "metadata": {},
   "outputs": [],
   "source": [
    "Negative_tweet_account= df[df['sentiment'] == 'Negative']['User'].tolist()\n"
   ]
  },
  {
   "cell_type": "markdown",
   "metadata": {},
   "source": [
    "##### Above is the list of users/account with negative tweets"
   ]
  },
  {
   "cell_type": "code",
   "execution_count": 93,
   "metadata": {},
   "outputs": [],
   "source": [
    "#Removing Stopwrods\n",
    "positive_tweet_list = positive_tweet.apply(nfx.remove_stopwords).tolist()\n",
    "neutral_tweet_list = Neutral_tweet.apply(nfx.remove_stopwords).tolist()\n",
    "negative_tweet_list = Negative_tweet.apply(nfx.remove_stopwords).tolist()"
   ]
  },
  {
   "cell_type": "code",
   "execution_count": 94,
   "metadata": {},
   "outputs": [
    {
     "data": {
      "text/plain": [
       "['doubt small group thoughtful concerned citizens change world thing youth Oclock GOING',\n",
       " 'thing suprise love youths Peter Obi',\n",
       " '',\n",
       " 'FATHER MBAKA PETER OBI',\n",
       " '',\n",
       " 'Kwankwaso Peter Obi',\n",
       " 'Education important thing life SINGLE IMPORTANT THING LIFE “your dream” man dream/vision perish @SteveHarveyFM',\n",
       " 'Family Food Basket amp',\n",
       " '@Naughtiawol illusion uninformed Nigeria youths making noise study lugards reports 1902 northern Nig telling Peter Obi/Atiku etc fix Nig arrest insecurity Fulanis injected Nig',\n",
       " 'People Ekiti scenes today come 2023 vote APC 🧏\\u200d pay']"
      ]
     },
     "execution_count": 94,
     "metadata": {},
     "output_type": "execute_result"
    }
   ],
   "source": [
    "positive_tweet_list[:10]"
   ]
  },
  {
   "cell_type": "code",
   "execution_count": 95,
   "metadata": {},
   "outputs": [
    {
     "data": {
      "text/plain": [
       "['@Kennyhopson talking sister week ago pointed rural areas corruption lies needs work extra hard access demographic (their numbers higher city educated demographic)',\n",
       " 'Uncle @renoomokri post like video let start congratulating @PeterObi addy winning 2023 election',\n",
       " 'Ameerah Black Sherrif Kwankwaso Wike Seyi Makinde PDP SDP Labour Party NNPP',\n",
       " '@IkukuomaC',\n",
       " 'Ameerah Black Sherrif Kwankwaso Wike Seyi Makinde PDP SDP Labour Party NNPP',\n",
       " 'approach general election vote buying big problem Imagine family selling vote 80000 naira families slums resist big problem fayose vote buying ekiti adeleke',\n",
       " 'Dear Obidients task handHow destroy vote buying',\n",
       " 'Nice man wrong Tweet huh kicked looked threatning amp inciting violence',\n",
       " 'evilschoose',\n",
       " '@DangbanaManager Thanks boss blessing']"
      ]
     },
     "execution_count": 95,
     "metadata": {},
     "output_type": "execute_result"
    }
   ],
   "source": [
    "negative_tweet_list[:10]"
   ]
  },
  {
   "cell_type": "code",
   "execution_count": 97,
   "metadata": {},
   "outputs": [],
   "source": [
    "#Tokenization\n",
    "for line in positive_tweet_list:\n",
    "    for token in line.split():\n",
    "        token\n",
    "        "
   ]
  },
  {
   "cell_type": "code",
   "execution_count": 98,
   "metadata": {},
   "outputs": [],
   "source": [
    "for line in negative_tweet_list:\n",
    "    for token in line.split():\n",
    "        token"
   ]
  },
  {
   "cell_type": "code",
   "execution_count": 99,
   "metadata": {},
   "outputs": [],
   "source": [
    "pos_token = [token for line in positive_tweet_list for token in line.split()]\n",
    "neg_token = [token for line in negative_tweet_list for token in line.split()]\n",
    "neu_token = [token for line in neutral_tweet_list for token in line.split()]"
   ]
  },
  {
   "cell_type": "code",
   "execution_count": 100,
   "metadata": {},
   "outputs": [
    {
     "data": {
      "text/plain": [
       "['doubt',\n",
       " 'small',\n",
       " 'group',\n",
       " 'thoughtful',\n",
       " 'concerned',\n",
       " 'citizens',\n",
       " 'change',\n",
       " 'world',\n",
       " 'thing',\n",
       " 'youth']"
      ]
     },
     "execution_count": 100,
     "metadata": {},
     "output_type": "execute_result"
    }
   ],
   "source": [
    "pos_token[:10]"
   ]
  },
  {
   "cell_type": "code",
   "execution_count": 101,
   "metadata": {},
   "outputs": [],
   "source": [
    "from collections import Counter"
   ]
  },
  {
   "cell_type": "code",
   "execution_count": 102,
   "metadata": {},
   "outputs": [],
   "source": [
    "def get_tokens(doc,num=20):\n",
    "    word_token = Counter(doc)\n",
    "    most_common = word_token.most_common(num)\n",
    "    result = dict(most_common)\n",
    "    return result"
   ]
  },
  {
   "cell_type": "code",
   "execution_count": 103,
   "metadata": {},
   "outputs": [
    {
     "data": {
      "text/plain": [
       "{'Peter': 6583,\n",
       " 'Obi': 6537,\n",
       " '@PeterObi': 5108,\n",
       " 'Nigeria': 4504,\n",
       " 'vote': 3337,\n",
       " 'people': 2794,\n",
       " 'man': 2055,\n",
       " 'like': 1995,\n",
       " 'amp': 1987,\n",
       " 'PVC': 1881,\n",
       " 'know': 1788,\n",
       " 'Labour': 1751,\n",
       " 'time': 1728,\n",
       " 'want': 1642,\n",
       " 'party': 1552,\n",
       " 'dont': 1544,\n",
       " '2023': 1527,\n",
       " 'need': 1500,\n",
       " 'country': 1497,\n",
       " 'better': 1480}"
      ]
     },
     "execution_count": 103,
     "metadata": {},
     "output_type": "execute_result"
    }
   ],
   "source": [
    "get_tokens(pos_token)"
   ]
  },
  {
   "cell_type": "code",
   "execution_count": 104,
   "metadata": {},
   "outputs": [],
   "source": [
    "most_commom_pos_words = get_tokens(pos_token)\n",
    "most_commom_neg_words = get_tokens(neg_token)\n",
    "most_commom_neu_words = get_tokens(neu_token)"
   ]
  },
  {
   "cell_type": "code",
   "execution_count": 105,
   "metadata": {},
   "outputs": [],
   "source": [
    "neg_df = pd.DataFrame(most_commom_neg_words.items(),columns=['Words','Scores'])\n",
    "pos_df = pd.DataFrame(most_commom_pos_words.items(),columns=['Words','Scores'])\n",
    "neu_df = pd.DataFrame(most_commom_neu_words.items(),columns=['Words','Scores'])"
   ]
  },
  {
   "cell_type": "code",
   "execution_count": 106,
   "metadata": {},
   "outputs": [
    {
     "data": {
      "text/html": [
       "<div>\n",
       "<style scoped>\n",
       "    .dataframe tbody tr th:only-of-type {\n",
       "        vertical-align: middle;\n",
       "    }\n",
       "\n",
       "    .dataframe tbody tr th {\n",
       "        vertical-align: top;\n",
       "    }\n",
       "\n",
       "    .dataframe thead th {\n",
       "        text-align: right;\n",
       "    }\n",
       "</style>\n",
       "<table border=\"1\" class=\"dataframe\">\n",
       "  <thead>\n",
       "    <tr style=\"text-align: right;\">\n",
       "      <th></th>\n",
       "      <th>Words</th>\n",
       "      <th>Scores</th>\n",
       "    </tr>\n",
       "  </thead>\n",
       "  <tbody>\n",
       "    <tr>\n",
       "      <th>0</th>\n",
       "      <td>Peter</td>\n",
       "      <td>8086</td>\n",
       "    </tr>\n",
       "    <tr>\n",
       "      <th>1</th>\n",
       "      <td>Obi</td>\n",
       "      <td>7737</td>\n",
       "    </tr>\n",
       "    <tr>\n",
       "      <th>2</th>\n",
       "      <td>@PeterObi</td>\n",
       "      <td>5967</td>\n",
       "    </tr>\n",
       "    <tr>\n",
       "      <th>3</th>\n",
       "      <td>Nigeria</td>\n",
       "      <td>5118</td>\n",
       "    </tr>\n",
       "    <tr>\n",
       "      <th>4</th>\n",
       "      <td>vote</td>\n",
       "      <td>4030</td>\n",
       "    </tr>\n",
       "    <tr>\n",
       "      <th>5</th>\n",
       "      <td>people</td>\n",
       "      <td>3247</td>\n",
       "    </tr>\n",
       "    <tr>\n",
       "      <th>6</th>\n",
       "      <td>amp</td>\n",
       "      <td>2422</td>\n",
       "    </tr>\n",
       "    <tr>\n",
       "      <th>7</th>\n",
       "      <td>man</td>\n",
       "      <td>2377</td>\n",
       "    </tr>\n",
       "    <tr>\n",
       "      <th>8</th>\n",
       "      <td>like</td>\n",
       "      <td>2358</td>\n",
       "    </tr>\n",
       "    <tr>\n",
       "      <th>9</th>\n",
       "      <td>PVC</td>\n",
       "      <td>2275</td>\n",
       "    </tr>\n",
       "    <tr>\n",
       "      <th>10</th>\n",
       "      <td>know</td>\n",
       "      <td>2188</td>\n",
       "    </tr>\n",
       "    <tr>\n",
       "      <th>11</th>\n",
       "      <td>Labour</td>\n",
       "      <td>2107</td>\n",
       "    </tr>\n",
       "    <tr>\n",
       "      <th>12</th>\n",
       "      <td>want</td>\n",
       "      <td>2016</td>\n",
       "    </tr>\n",
       "    <tr>\n",
       "      <th>13</th>\n",
       "      <td>time</td>\n",
       "      <td>2014</td>\n",
       "    </tr>\n",
       "    <tr>\n",
       "      <th>14</th>\n",
       "      <td>dont</td>\n",
       "      <td>1815</td>\n",
       "    </tr>\n",
       "    <tr>\n",
       "      <th>15</th>\n",
       "      <td>party</td>\n",
       "      <td>1801</td>\n",
       "    </tr>\n",
       "    <tr>\n",
       "      <th>16</th>\n",
       "      <td>2023</td>\n",
       "      <td>1791</td>\n",
       "    </tr>\n",
       "    <tr>\n",
       "      <th>17</th>\n",
       "      <td>need</td>\n",
       "      <td>1782</td>\n",
       "    </tr>\n",
       "    <tr>\n",
       "      <th>18</th>\n",
       "      <td>dey</td>\n",
       "      <td>1674</td>\n",
       "    </tr>\n",
       "    <tr>\n",
       "      <th>19</th>\n",
       "      <td>country</td>\n",
       "      <td>1674</td>\n",
       "    </tr>\n",
       "  </tbody>\n",
       "</table>\n",
       "</div>"
      ],
      "text/plain": [
       "        Words  Scores\n",
       "0       Peter    8086\n",
       "1         Obi    7737\n",
       "2   @PeterObi    5967\n",
       "3     Nigeria    5118\n",
       "4        vote    4030\n",
       "5      people    3247\n",
       "6         amp    2422\n",
       "7         man    2377\n",
       "8        like    2358\n",
       "9         PVC    2275\n",
       "10       know    2188\n",
       "11     Labour    2107\n",
       "12       want    2016\n",
       "13       time    2014\n",
       "14       dont    1815\n",
       "15      party    1801\n",
       "16       2023    1791\n",
       "17       need    1782\n",
       "18        dey    1674\n",
       "19    country    1674"
      ]
     },
     "execution_count": 106,
     "metadata": {},
     "output_type": "execute_result"
    }
   ],
   "source": [
    "neu_df"
   ]
  },
  {
   "cell_type": "code",
   "execution_count": 107,
   "metadata": {},
   "outputs": [
    {
     "data": {
      "image/png": "[encoded data removed]",
      "text/plain": [
       "<Figure size 720x432 with 1 Axes>"
      ]
     },
     "metadata": {
      "needs_background": "light"
     },
     "output_type": "display_data"
    }
   ],
   "source": [
    "plt.figure(figsize=(10,6))\n",
    "sns.barplot(x='Words',y='Scores',data=pos_df)\n",
    "plt.xticks(rotation='vertical')\n",
    "plt.show()"
   ]
  },
  {
   "cell_type": "code",
   "execution_count": 108,
   "metadata": {},
   "outputs": [
    {
     "data": {
      "image/png": "[encoded data removed]",
      "text/plain": [
       "<Figure size 720x360 with 1 Axes>"
      ]
     },
     "metadata": {
      "needs_background": "light"
     },
     "output_type": "display_data"
    }
   ],
   "source": [
    "plt.figure(figsize=(10,5))\n",
    "sns.barplot(x='Words',y='Scores',data=neg_df)\n",
    "plt.xticks(rotation='vertical')\n",
    "plt.show()"
   ]
  },
  {
   "cell_type": "code",
   "execution_count": 109,
   "metadata": {},
   "outputs": [
    {
     "data": {
      "image/png": "[encoded data removed]",
      "text/plain": [
       "<Figure size 720x432 with 1 Axes>"
      ]
     },
     "metadata": {
      "needs_background": "light"
     },
     "output_type": "display_data"
    }
   ],
   "source": [
    "plt.figure(figsize=(10,6))\n",
    "sns.barplot(x='Words',y='Scores',data=neu_df)\n",
    "plt.xticks(rotation='vertical')\n",
    "plt.show()"
   ]
  },
  {
   "cell_type": "code",
   "execution_count": null,
   "metadata": {},
   "outputs": [],
   "source": []
  },
  {
   "cell_type": "code",
   "execution_count": null,
   "metadata": {},
   "outputs": [],
   "source": []
  }
 ],
 "metadata": {
  "kernelspec": {
   "display_name": "Python 3",
   "language": "python",
   "name": "python3"
  },
  "language_info": {
   "codemirror_mode": {
    "name": "ipython",
    "version": 3
   },
   "file_extension": ".py",
   "mimetype": "text/x-python",
   "name": "python",
   "nbconvert_exporter": "python",
   "pygments_lexer": "ipython3",
   "version": "3.8.5"
  }
 },
 "nbformat": 4,
 "nbformat_minor": 4
}
